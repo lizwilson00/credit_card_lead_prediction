{
 "cells": [
  {
   "cell_type": "markdown",
   "id": "77750879-a3c8-4f8c-9359-223d7fb215c5",
   "metadata": {},
   "source": [
    "# Machine Learning Project - Credit Card Lead Prediction"
   ]
  },
  {
   "cell_type": "code",
   "execution_count": 1,
   "id": "98c649e1-429d-4903-bdbd-18d7c69214d8",
   "metadata": {},
   "outputs": [],
   "source": [
    "import pandas as pd\n",
    "import numpy as np\n",
    "import seaborn as sns\n",
    "import matplotlib\n",
    "import matplotlib.pyplot as plt\n",
    "%matplotlib inline"
   ]
  },
  {
   "cell_type": "code",
   "execution_count": 2,
   "id": "e35b2e59-dc42-4702-8611-607de8bf315d",
   "metadata": {},
   "outputs": [],
   "source": [
    "sns.set_style('darkgrid')\n",
    "matplotlib.rcParams['font.size'] = 14\n",
    "matplotlib.rcParams['figure.figsize'] = (9, 5)\n",
    "matplotlib.rcParams['figure.facecolor'] = '#00000000'"
   ]
  },
  {
   "cell_type": "code",
   "execution_count": 3,
   "id": "cda35b07-d157-4b93-878a-3c2d014b5162",
   "metadata": {},
   "outputs": [],
   "source": [
    "from sklearn.model_selection import train_test_split\n",
    "from sklearn.feature_extraction import DictVectorizer\n",
    "from sklearn.linear_model import LogisticRegression"
   ]
  },
  {
   "cell_type": "code",
   "execution_count": 4,
   "id": "ccbd9df9-089c-4433-8832-7a78fcba4034",
   "metadata": {},
   "outputs": [],
   "source": [
    "import warnings\n",
    "warnings.filterwarnings('ignore')"
   ]
  },
  {
   "cell_type": "code",
   "execution_count": 5,
   "id": "6d66b557-25c7-4419-ac88-38e9c7ea7737",
   "metadata": {},
   "outputs": [],
   "source": [
    "dataset_url = 'https://www.kaggle.com/datasets/sajidhussain3/jobathon-may-2021-credit-card-lead-prediction' "
   ]
  },
  {
   "cell_type": "code",
   "execution_count": 6,
   "id": "5b838dc2-2865-40f0-8fc9-f3c801a10afb",
   "metadata": {},
   "outputs": [],
   "source": [
    "!pip install opendatasets --upgrade --quiet"
   ]
  },
  {
   "cell_type": "code",
   "execution_count": 7,
   "id": "6e987a86-5531-4d0c-9d6a-77413cf18eaf",
   "metadata": {},
   "outputs": [
    {
     "name": "stdout",
     "output_type": "stream",
     "text": [
      "Skipping, found downloaded files in \"./jobathon-may-2021-credit-card-lead-prediction\" (use force=True to force download)\n"
     ]
    }
   ],
   "source": [
    "import opendatasets as od\n",
    "od.download(dataset_url)"
   ]
  },
  {
   "cell_type": "code",
   "execution_count": 8,
   "id": "a233fa8e-4ae9-4515-b9c5-1d9120d03f06",
   "metadata": {},
   "outputs": [],
   "source": [
    "data_dir = './jobathon-may-2021-credit-card-lead-prediction'"
   ]
  },
  {
   "cell_type": "code",
   "execution_count": 9,
   "id": "92563f0f-44f5-41e0-8779-d9e6437bc394",
   "metadata": {},
   "outputs": [
    {
     "data": {
      "text/plain": [
       "['test.csv', 'train.csv', 'sample_submission.csv']"
      ]
     },
     "execution_count": 9,
     "metadata": {},
     "output_type": "execute_result"
    }
   ],
   "source": [
    "import os\n",
    "os.listdir(data_dir)"
   ]
  },
  {
   "cell_type": "code",
   "execution_count": 10,
   "id": "bc58f16f-e1bc-496d-87eb-0cf390b9d587",
   "metadata": {},
   "outputs": [],
   "source": [
    "test_file_name = os.listdir(data_dir)[0]\n",
    "train_file_name = os.listdir(data_dir)[1]"
   ]
  },
  {
   "cell_type": "code",
   "execution_count": 11,
   "id": "b8cca5a0-f8e0-4d59-bfe1-a8069ac2b31a",
   "metadata": {},
   "outputs": [],
   "source": [
    "test_df = pd.read_csv(f\"{data_dir}/{test_file_name}\")\n",
    "train_df = pd.read_csv(f\"{data_dir}/{train_file_name}\")"
   ]
  },
  {
   "cell_type": "code",
   "execution_count": 12,
   "id": "e30b5170-7b89-4a74-bd03-5b51435f5004",
   "metadata": {},
   "outputs": [
    {
     "data": {
      "text/plain": [
       "(105312, 10)"
      ]
     },
     "execution_count": 12,
     "metadata": {},
     "output_type": "execute_result"
    }
   ],
   "source": [
    "test_df.shape"
   ]
  },
  {
   "cell_type": "code",
   "execution_count": 13,
   "id": "8dc2d7db-0dd4-4de5-a941-dbe6f38f3a1d",
   "metadata": {},
   "outputs": [
    {
     "data": {
      "text/plain": [
       "(245725, 11)"
      ]
     },
     "execution_count": 13,
     "metadata": {},
     "output_type": "execute_result"
    }
   ],
   "source": [
    "train_df.shape"
   ]
  },
  {
   "cell_type": "code",
   "execution_count": 14,
   "id": "4b9a7be7-1ff6-4786-98e4-069a6095ef65",
   "metadata": {},
   "outputs": [
    {
     "data": {
      "text/plain": [
       "Index(['ID', 'Gender', 'Age', 'Region_Code', 'Occupation', 'Channel_Code',\n",
       "       'Vintage', 'Credit_Product', 'Avg_Account_Balance', 'Is_Active'],\n",
       "      dtype='object')"
      ]
     },
     "execution_count": 14,
     "metadata": {},
     "output_type": "execute_result"
    }
   ],
   "source": [
    "test_df.columns"
   ]
  },
  {
   "cell_type": "code",
   "execution_count": 15,
   "id": "5e838766-b324-4f57-946e-518bf04f4c34",
   "metadata": {},
   "outputs": [
    {
     "data": {
      "text/plain": [
       "Index(['ID', 'Gender', 'Age', 'Region_Code', 'Occupation', 'Channel_Code',\n",
       "       'Vintage', 'Credit_Product', 'Avg_Account_Balance', 'Is_Active',\n",
       "       'Is_Lead'],\n",
       "      dtype='object')"
      ]
     },
     "execution_count": 15,
     "metadata": {},
     "output_type": "execute_result"
    }
   ],
   "source": [
    "train_df.columns"
   ]
  },
  {
   "cell_type": "markdown",
   "id": "5e3495bf-c1d5-40e5-a852-59a8f69c8ebc",
   "metadata": {},
   "source": [
    "Since we only have the variable we are trying to predict ('Is_Lead') on the train_df we will only use the train dataset for the entire analysis."
   ]
  },
  {
   "cell_type": "code",
   "execution_count": 16,
   "id": "2008ff68-2b10-4bfb-ab11-7bbba8c6278e",
   "metadata": {},
   "outputs": [],
   "source": [
    "df = train_df"
   ]
  },
  {
   "cell_type": "code",
   "execution_count": 17,
   "id": "63bfc551-3973-4b83-8bc5-d058b9246ba1",
   "metadata": {},
   "outputs": [
    {
     "data": {
      "text/plain": [
       "ID                     object\n",
       "Gender                 object\n",
       "Age                     int64\n",
       "Region_Code            object\n",
       "Occupation             object\n",
       "Channel_Code           object\n",
       "Vintage                 int64\n",
       "Credit_Product         object\n",
       "Avg_Account_Balance     int64\n",
       "Is_Active              object\n",
       "Is_Lead                 int64\n",
       "dtype: object"
      ]
     },
     "execution_count": 17,
     "metadata": {},
     "output_type": "execute_result"
    }
   ],
   "source": [
    "df.dtypes"
   ]
  },
  {
   "cell_type": "code",
   "execution_count": 18,
   "id": "53956b15-347c-4df6-a65b-864a0bf5157b",
   "metadata": {},
   "outputs": [
    {
     "data": {
      "text/plain": [
       "Gender\n",
       "Male      134197\n",
       "Female    111528\n",
       "Name: count, dtype: int64"
      ]
     },
     "execution_count": 18,
     "metadata": {},
     "output_type": "execute_result"
    }
   ],
   "source": [
    "df.Gender.value_counts()"
   ]
  },
  {
   "cell_type": "code",
   "execution_count": 19,
   "id": "6d0c6598-c350-49c3-b51f-4781d857ede9",
   "metadata": {},
   "outputs": [
    {
     "data": {
      "text/plain": [
       "Region_Code\n",
       "RG268    35934\n",
       "RG283    29416\n",
       "RG254    26840\n",
       "RG284    19320\n",
       "RG277    12826\n",
       "RG280    12775\n",
       "RG269     7863\n",
       "RG270     7720\n",
       "RG261     7633\n",
       "RG257     6101\n",
       "RG251     5950\n",
       "RG282     5829\n",
       "RG274     5286\n",
       "RG272     5252\n",
       "RG281     5093\n",
       "RG273     4497\n",
       "RG252     4286\n",
       "RG279     3976\n",
       "RG263     3687\n",
       "RG275     3245\n",
       "RG260     3110\n",
       "RG256     2847\n",
       "RG264     2793\n",
       "RG276     2764\n",
       "RG259     2586\n",
       "RG250     2496\n",
       "RG255     2018\n",
       "RG258     1951\n",
       "RG253     1858\n",
       "RG278     1822\n",
       "RG262     1788\n",
       "RG266     1578\n",
       "RG265     1546\n",
       "RG271     1542\n",
       "RG267     1497\n",
       "Name: count, dtype: int64"
      ]
     },
     "execution_count": 19,
     "metadata": {},
     "output_type": "execute_result"
    }
   ],
   "source": [
    "df.Region_Code.value_counts()"
   ]
  },
  {
   "cell_type": "code",
   "execution_count": 20,
   "id": "e0880497-6214-4a9a-be1f-31cb426e7e57",
   "metadata": {},
   "outputs": [
    {
     "data": {
      "text/plain": [
       "Occupation\n",
       "Self_Employed    100886\n",
       "Salaried          71999\n",
       "Other             70173\n",
       "Entrepreneur       2667\n",
       "Name: count, dtype: int64"
      ]
     },
     "execution_count": 20,
     "metadata": {},
     "output_type": "execute_result"
    }
   ],
   "source": [
    "df.Occupation.value_counts()"
   ]
  },
  {
   "cell_type": "code",
   "execution_count": 21,
   "id": "fa3dc5ce-d3d5-4563-b51f-4926a746a9ca",
   "metadata": {},
   "outputs": [
    {
     "data": {
      "text/plain": [
       "Channel_Code\n",
       "X1    103718\n",
       "X3     68712\n",
       "X2     67726\n",
       "X4      5569\n",
       "Name: count, dtype: int64"
      ]
     },
     "execution_count": 21,
     "metadata": {},
     "output_type": "execute_result"
    }
   ],
   "source": [
    "df.Channel_Code.value_counts()"
   ]
  },
  {
   "cell_type": "code",
   "execution_count": 22,
   "id": "4b0cf455-9d68-4546-9cdb-9d51a49e04a7",
   "metadata": {},
   "outputs": [
    {
     "data": {
      "text/plain": [
       "Credit_Product\n",
       "No     144357\n",
       "Yes     72043\n",
       "Name: count, dtype: int64"
      ]
     },
     "execution_count": 22,
     "metadata": {},
     "output_type": "execute_result"
    }
   ],
   "source": [
    "df.Credit_Product.value_counts()"
   ]
  },
  {
   "cell_type": "code",
   "execution_count": 23,
   "id": "266929a0-7604-4479-b75f-ba404b0ffa4d",
   "metadata": {},
   "outputs": [
    {
     "data": {
      "text/plain": [
       "Is_Active\n",
       "No     150290\n",
       "Yes     95435\n",
       "Name: count, dtype: int64"
      ]
     },
     "execution_count": 23,
     "metadata": {},
     "output_type": "execute_result"
    }
   ],
   "source": [
    "df.Is_Active.value_counts()"
   ]
  },
  {
   "cell_type": "markdown",
   "id": "f95b24d0-8cbb-4078-af96-8eb16f7e4a6f",
   "metadata": {},
   "source": [
    "Dropping the ID column since this will not be important as part of our model"
   ]
  },
  {
   "cell_type": "code",
   "execution_count": 24,
   "id": "3b33fc8c-d51d-4a66-bbf1-523380c16ea7",
   "metadata": {},
   "outputs": [],
   "source": [
    "df = df.drop(['ID'], axis=1)"
   ]
  },
  {
   "cell_type": "code",
   "execution_count": 25,
   "id": "40807bbe-743f-4368-a948-ee1f50a8423e",
   "metadata": {},
   "outputs": [],
   "source": [
    "df.columns = df.columns.str.lower()\n",
    "\n",
    "categorical_columns = list(df.dtypes[df.dtypes == 'object'].index)"
   ]
  },
  {
   "cell_type": "code",
   "execution_count": 26,
   "id": "7ba6caa1-1c51-4103-b323-b3aa57b33c02",
   "metadata": {},
   "outputs": [
    {
     "data": {
      "text/plain": [
       "['gender',\n",
       " 'region_code',\n",
       " 'occupation',\n",
       " 'channel_code',\n",
       " 'credit_product',\n",
       " 'is_active']"
      ]
     },
     "execution_count": 26,
     "metadata": {},
     "output_type": "execute_result"
    }
   ],
   "source": [
    "categorical_columns"
   ]
  },
  {
   "cell_type": "code",
   "execution_count": 27,
   "id": "66a126cd-af40-4612-8d65-0706ae16589c",
   "metadata": {},
   "outputs": [],
   "source": [
    "numeric_columns = ['age', 'vintage', 'avg_account_balance']"
   ]
  },
  {
   "cell_type": "code",
   "execution_count": 28,
   "id": "5c55a688-7ed8-4b86-a9a1-196dac419b8c",
   "metadata": {},
   "outputs": [
    {
     "data": {
      "text/plain": [
       "gender                     0\n",
       "age                        0\n",
       "region_code                0\n",
       "occupation                 0\n",
       "channel_code               0\n",
       "vintage                    0\n",
       "credit_product         29325\n",
       "avg_account_balance        0\n",
       "is_active                  0\n",
       "is_lead                    0\n",
       "dtype: int64"
      ]
     },
     "execution_count": 28,
     "metadata": {},
     "output_type": "execute_result"
    }
   ],
   "source": [
    "df.isnull().sum()"
   ]
  },
  {
   "cell_type": "code",
   "execution_count": 29,
   "id": "88c3aa71-bea0-43f5-a47c-60244e7e6713",
   "metadata": {},
   "outputs": [],
   "source": [
    "df.credit_product = df.credit_product.fillna('Unknown')"
   ]
  },
  {
   "cell_type": "code",
   "execution_count": 30,
   "id": "2d8bd699-7ff6-40bc-9813-2a9c20e38023",
   "metadata": {},
   "outputs": [
    {
     "data": {
      "text/plain": [
       "credit_product\n",
       "No         144357\n",
       "Yes         72043\n",
       "Unknown     29325\n",
       "Name: count, dtype: int64"
      ]
     },
     "execution_count": 30,
     "metadata": {},
     "output_type": "execute_result"
    }
   ],
   "source": [
    "df.credit_product.value_counts()"
   ]
  },
  {
   "cell_type": "code",
   "execution_count": 31,
   "id": "a0660bd7-4dfd-47b8-8626-8853598fd51e",
   "metadata": {},
   "outputs": [
    {
     "data": {
      "text/html": [
       "<div>\n",
       "<style scoped>\n",
       "    .dataframe tbody tr th:only-of-type {\n",
       "        vertical-align: middle;\n",
       "    }\n",
       "\n",
       "    .dataframe tbody tr th {\n",
       "        vertical-align: top;\n",
       "    }\n",
       "\n",
       "    .dataframe thead th {\n",
       "        text-align: right;\n",
       "    }\n",
       "</style>\n",
       "<table border=\"1\" class=\"dataframe\">\n",
       "  <thead>\n",
       "    <tr style=\"text-align: right;\">\n",
       "      <th></th>\n",
       "      <th>gender</th>\n",
       "      <th>age</th>\n",
       "      <th>region_code</th>\n",
       "      <th>occupation</th>\n",
       "      <th>channel_code</th>\n",
       "      <th>vintage</th>\n",
       "      <th>credit_product</th>\n",
       "      <th>avg_account_balance</th>\n",
       "      <th>is_active</th>\n",
       "      <th>is_lead</th>\n",
       "    </tr>\n",
       "  </thead>\n",
       "  <tbody>\n",
       "    <tr>\n",
       "      <th>0</th>\n",
       "      <td>Female</td>\n",
       "      <td>73</td>\n",
       "      <td>RG268</td>\n",
       "      <td>Other</td>\n",
       "      <td>X3</td>\n",
       "      <td>43</td>\n",
       "      <td>No</td>\n",
       "      <td>1045696</td>\n",
       "      <td>No</td>\n",
       "      <td>0</td>\n",
       "    </tr>\n",
       "    <tr>\n",
       "      <th>1</th>\n",
       "      <td>Female</td>\n",
       "      <td>30</td>\n",
       "      <td>RG277</td>\n",
       "      <td>Salaried</td>\n",
       "      <td>X1</td>\n",
       "      <td>32</td>\n",
       "      <td>No</td>\n",
       "      <td>581988</td>\n",
       "      <td>No</td>\n",
       "      <td>0</td>\n",
       "    </tr>\n",
       "    <tr>\n",
       "      <th>2</th>\n",
       "      <td>Female</td>\n",
       "      <td>56</td>\n",
       "      <td>RG268</td>\n",
       "      <td>Self_Employed</td>\n",
       "      <td>X3</td>\n",
       "      <td>26</td>\n",
       "      <td>No</td>\n",
       "      <td>1484315</td>\n",
       "      <td>Yes</td>\n",
       "      <td>0</td>\n",
       "    </tr>\n",
       "    <tr>\n",
       "      <th>3</th>\n",
       "      <td>Male</td>\n",
       "      <td>34</td>\n",
       "      <td>RG270</td>\n",
       "      <td>Salaried</td>\n",
       "      <td>X1</td>\n",
       "      <td>19</td>\n",
       "      <td>No</td>\n",
       "      <td>470454</td>\n",
       "      <td>No</td>\n",
       "      <td>0</td>\n",
       "    </tr>\n",
       "    <tr>\n",
       "      <th>4</th>\n",
       "      <td>Female</td>\n",
       "      <td>30</td>\n",
       "      <td>RG282</td>\n",
       "      <td>Salaried</td>\n",
       "      <td>X1</td>\n",
       "      <td>33</td>\n",
       "      <td>No</td>\n",
       "      <td>886787</td>\n",
       "      <td>No</td>\n",
       "      <td>0</td>\n",
       "    </tr>\n",
       "  </tbody>\n",
       "</table>\n",
       "</div>"
      ],
      "text/plain": [
       "   gender  age region_code     occupation channel_code  vintage  \\\n",
       "0  Female   73       RG268          Other           X3       43   \n",
       "1  Female   30       RG277       Salaried           X1       32   \n",
       "2  Female   56       RG268  Self_Employed           X3       26   \n",
       "3    Male   34       RG270       Salaried           X1       19   \n",
       "4  Female   30       RG282       Salaried           X1       33   \n",
       "\n",
       "  credit_product  avg_account_balance is_active  is_lead  \n",
       "0             No              1045696        No        0  \n",
       "1             No               581988        No        0  \n",
       "2             No              1484315       Yes        0  \n",
       "3             No               470454        No        0  \n",
       "4             No               886787        No        0  "
      ]
     },
     "execution_count": 31,
     "metadata": {},
     "output_type": "execute_result"
    }
   ],
   "source": [
    "df.head()"
   ]
  },
  {
   "cell_type": "code",
   "execution_count": 32,
   "id": "8e4c8c85-1526-4a90-81e6-7d8e3d28228d",
   "metadata": {},
   "outputs": [
    {
     "data": {
      "text/plain": [
       "array([[<Axes: title={'center': 'age'}>,\n",
       "        <Axes: title={'center': 'vintage'}>],\n",
       "       [<Axes: title={'center': 'avg_account_balance'}>, <Axes: >]],\n",
       "      dtype=object)"
      ]
     },
     "execution_count": 32,
     "metadata": {},
     "output_type": "execute_result"
    },
    {
     "data": {
      "image/png": "[encoded data removed]",
      "text/plain": [
       "<Figure size 1500x1000 with 4 Axes>"
      ]
     },
     "metadata": {
      "needs_background": "light"
     },
     "output_type": "display_data"
    }
   ],
   "source": [
    "# Taking a look at the histograms for each of the numeric fields\n",
    "df[numeric_columns].hist(bins=30, figsize=(15, 10))"
   ]
  },
  {
   "cell_type": "markdown",
   "id": "2518763c-af11-4787-83ff-0f047804375e",
   "metadata": {},
   "source": [
    "We see that age, vintage and avg_account_balance do not even closely follow a normal distribution.  We will transform the data using the log to see if this might help."
   ]
  },
  {
   "cell_type": "code",
   "execution_count": 33,
   "id": "8874cd47-3d0f-47ca-8732-4e56dba0dfe7",
   "metadata": {},
   "outputs": [],
   "source": [
    "age_logs = np.log1p(df.age)"
   ]
  },
  {
   "cell_type": "code",
   "execution_count": 34,
   "id": "71dd6224-9142-4392-8f61-50939a7853d5",
   "metadata": {},
   "outputs": [
    {
     "data": {
      "image/png": "[encoded data removed]",
      "text/plain": [
       "<Figure size 900x500 with 1 Axes>"
      ]
     },
     "metadata": {
      "needs_background": "light"
     },
     "output_type": "display_data"
    }
   ],
   "source": [
    "plt.title(\"Distribution of Age - Logs\")\n",
    "sns.histplot(x=age_logs, kde=True);"
   ]
  },
  {
   "cell_type": "markdown",
   "id": "99933d1b-a7fb-45fa-a04d-4f739c761259",
   "metadata": {},
   "source": [
    "The log transformation does not help with the age distribution so we will leave age as is."
   ]
  },
  {
   "cell_type": "code",
   "execution_count": 35,
   "id": "35ba3928-dee2-48d0-b9d9-f4d1797ef869",
   "metadata": {},
   "outputs": [],
   "source": [
    "vintage_logs = np.log1p(df.vintage)"
   ]
  },
  {
   "cell_type": "code",
   "execution_count": 36,
   "id": "f1c7a705-6ed9-460e-992c-64e31ee4cc50",
   "metadata": {
    "scrolled": true
   },
   "outputs": [
    {
     "data": {
      "image/png": "[encoded data removed]",
      "text/plain": [
       "<Figure size 900x500 with 1 Axes>"
      ]
     },
     "metadata": {
      "needs_background": "light"
     },
     "output_type": "display_data"
    }
   ],
   "source": [
    "plt.title(\"Distribution of Vintage - Logs\")\n",
    "sns.histplot(x=vintage_logs, kde=True);"
   ]
  },
  {
   "cell_type": "markdown",
   "id": "d4444274-5315-4404-924f-ccf84d168d57",
   "metadata": {},
   "source": [
    "The log transformation does not help with the vintage distribution so we will leave vintage as is."
   ]
  },
  {
   "cell_type": "code",
   "execution_count": 37,
   "id": "965cbe00-ef49-4767-8da8-25d2c5699ff0",
   "metadata": {},
   "outputs": [],
   "source": [
    "avg_bal_logs = np.log1p(df.avg_account_balance)"
   ]
  },
  {
   "cell_type": "code",
   "execution_count": 38,
   "id": "cd19609f-d2bf-49eb-9305-6b41b41d327a",
   "metadata": {},
   "outputs": [
    {
     "data": {
      "image/png": "[encoded data removed]",
      "text/plain": [
       "<Figure size 900x500 with 1 Axes>"
      ]
     },
     "metadata": {
      "needs_background": "light"
     },
     "output_type": "display_data"
    }
   ],
   "source": [
    "plt.title(\"Distribution of Average Account Balance - Logs\")\n",
    "sns.histplot(x=avg_bal_logs, kde=True);"
   ]
  },
  {
   "cell_type": "markdown",
   "id": "ed0c3848-e82d-446a-83df-f85986b49811",
   "metadata": {},
   "source": [
    "We can see that we now have nicely distributed data for average account balance now that we have transformed the data to the log."
   ]
  },
  {
   "cell_type": "code",
   "execution_count": 39,
   "id": "9aeeb4c4-c847-44d8-b4b8-b1e7804408be",
   "metadata": {},
   "outputs": [],
   "source": [
    "df.avg_account_balance = np.log1p(df.avg_account_balance)"
   ]
  },
  {
   "cell_type": "markdown",
   "id": "84bbf202-37de-4bc7-81aa-4a1139e31362",
   "metadata": {},
   "source": [
    "### Review the pair-wise correlation coefficients for numeric predictors"
   ]
  },
  {
   "cell_type": "code",
   "execution_count": 40,
   "id": "8068a9cb-c757-4e88-a854-2122314a6cf1",
   "metadata": {},
   "outputs": [
    {
     "data": {
      "text/html": [
       "<div>\n",
       "<style scoped>\n",
       "    .dataframe tbody tr th:only-of-type {\n",
       "        vertical-align: middle;\n",
       "    }\n",
       "\n",
       "    .dataframe tbody tr th {\n",
       "        vertical-align: top;\n",
       "    }\n",
       "\n",
       "    .dataframe thead th {\n",
       "        text-align: right;\n",
       "    }\n",
       "</style>\n",
       "<table border=\"1\" class=\"dataframe\">\n",
       "  <thead>\n",
       "    <tr style=\"text-align: right;\">\n",
       "      <th></th>\n",
       "      <th>age</th>\n",
       "      <th>vintage</th>\n",
       "      <th>avg_account_balance</th>\n",
       "      <th>is_lead</th>\n",
       "    </tr>\n",
       "  </thead>\n",
       "  <tbody>\n",
       "    <tr>\n",
       "      <th>age</th>\n",
       "      <td>1.000000</td>\n",
       "      <td>0.631242</td>\n",
       "      <td>0.176838</td>\n",
       "      <td>0.230814</td>\n",
       "    </tr>\n",
       "    <tr>\n",
       "      <th>vintage</th>\n",
       "      <td>0.631242</td>\n",
       "      <td>1.000000</td>\n",
       "      <td>0.201592</td>\n",
       "      <td>0.279642</td>\n",
       "    </tr>\n",
       "    <tr>\n",
       "      <th>avg_account_balance</th>\n",
       "      <td>0.176838</td>\n",
       "      <td>0.201592</td>\n",
       "      <td>1.000000</td>\n",
       "      <td>0.073291</td>\n",
       "    </tr>\n",
       "    <tr>\n",
       "      <th>is_lead</th>\n",
       "      <td>0.230814</td>\n",
       "      <td>0.279642</td>\n",
       "      <td>0.073291</td>\n",
       "      <td>1.000000</td>\n",
       "    </tr>\n",
       "  </tbody>\n",
       "</table>\n",
       "</div>"
      ],
      "text/plain": [
       "                          age   vintage  avg_account_balance   is_lead\n",
       "age                  1.000000  0.631242             0.176838  0.230814\n",
       "vintage              0.631242  1.000000             0.201592  0.279642\n",
       "avg_account_balance  0.176838  0.201592             1.000000  0.073291\n",
       "is_lead              0.230814  0.279642             0.073291  1.000000"
      ]
     },
     "execution_count": 40,
     "metadata": {},
     "output_type": "execute_result"
    }
   ],
   "source": [
    "corr_df = df[numeric_columns + ['is_lead']].corr('pearson')\n",
    "corr_df"
   ]
  },
  {
   "cell_type": "code",
   "execution_count": 41,
   "id": "51e862a6-64e3-4265-9316-961d4e0605eb",
   "metadata": {},
   "outputs": [
    {
     "data": {
      "image/png": "[encoded data removed]",
      "text/plain": [
       "<Figure size 900x500 with 2 Axes>"
      ]
     },
     "metadata": {
      "needs_background": "light"
     },
     "output_type": "display_data"
    }
   ],
   "source": [
    "# Let's create a correlation heatmap to make it easier to see\n",
    "plt.title(\"Correlation Heatmap\")\n",
    "plt.xticks(rotation=45)\n",
    "sns.heatmap(corr_df, fmt=\".1f\", annot=True, cmap='Blues');"
   ]
  },
  {
   "cell_type": "code",
   "execution_count": 42,
   "id": "00d92f5a-e350-43cc-9e22-9f3cfd200d8f",
   "metadata": {},
   "outputs": [],
   "source": [
    "df_full_train, df_test = train_test_split(df, test_size=0.2, random_state=1)\n",
    "df_train, df_val = train_test_split(df_full_train, test_size=0.25, random_state=1)\n",
    "\n",
    "df_train = df_train.reset_index(drop=True)\n",
    "df_val = df_val.reset_index(drop=True)\n",
    "df_test = df_test.reset_index(drop=True)\n",
    "\n",
    "y_train = df_train.is_lead.values\n",
    "y_val = df_val.is_lead.values\n",
    "y_test = df_test.is_lead.values\n",
    "\n",
    "del df_train['is_lead']\n",
    "del df_val['is_lead']\n",
    "del df_test['is_lead']"
   ]
  },
  {
   "cell_type": "code",
   "execution_count": 43,
   "id": "7b714c97-b3b4-4c00-9a82-cf43bbeacadb",
   "metadata": {},
   "outputs": [],
   "source": [
    "dv = DictVectorizer(sparse=False)"
   ]
  },
  {
   "cell_type": "code",
   "execution_count": 44,
   "id": "b8f208c7-dc36-4aaf-9e5f-99650413eb6f",
   "metadata": {},
   "outputs": [],
   "source": [
    "train_dict = df_train[categorical_columns + numeric_columns].to_dict(orient='records')"
   ]
  },
  {
   "cell_type": "code",
   "execution_count": 45,
   "id": "3e1b177c-c56f-452e-a60d-70d167232402",
   "metadata": {},
   "outputs": [],
   "source": [
    "X_train = dv.fit_transform(train_dict)"
   ]
  },
  {
   "cell_type": "markdown",
   "id": "e92ddcc0-1074-43b5-af18-b5619b8d0c49",
   "metadata": {},
   "source": [
    "## Logistic Regression Model"
   ]
  },
  {
   "cell_type": "code",
   "execution_count": 137,
   "id": "03ab1ecc-f885-474c-b30e-e733ec895682",
   "metadata": {},
   "outputs": [],
   "source": [
    "model = LogisticRegression(solver=\"liblinear\")"
   ]
  },
  {
   "cell_type": "code",
   "execution_count": 138,
   "id": "c350b4eb-c895-4f3f-a584-8ef7cd34b95b",
   "metadata": {},
   "outputs": [
    {
     "data": {
      "text/html": [
       "<style>#sk-container-id-6 {color: black;}#sk-container-id-6 pre{padding: 0;}#sk-container-id-6 div.sk-toggleable {background-color: white;}#sk-container-id-6 label.sk-toggleable__label {cursor: pointer;display: block;width: 100%;margin-bottom: 0;padding: 0.3em;box-sizing: border-box;text-align: center;}#sk-container-id-6 label.sk-toggleable__label-arrow:before {content: \"▸\";float: left;margin-right: 0.25em;color: #696969;}#sk-container-id-6 label.sk-toggleable__label-arrow:hover:before {color: black;}#sk-container-id-6 div.sk-estimator:hover label.sk-toggleable__label-arrow:before {color: black;}#sk-container-id-6 div.sk-toggleable__content {max-height: 0;max-width: 0;overflow: hidden;text-align: left;background-color: #f0f8ff;}#sk-container-id-6 div.sk-toggleable__content pre {margin: 0.2em;color: black;border-radius: 0.25em;background-color: #f0f8ff;}#sk-container-id-6 input.sk-toggleable__control:checked~div.sk-toggleable__content {max-height: 200px;max-width: 100%;overflow: auto;}#sk-container-id-6 input.sk-toggleable__control:checked~label.sk-toggleable__label-arrow:before {content: \"▾\";}#sk-container-id-6 div.sk-estimator input.sk-toggleable__control:checked~label.sk-toggleable__label {background-color: #d4ebff;}#sk-container-id-6 div.sk-label input.sk-toggleable__control:checked~label.sk-toggleable__label {background-color: #d4ebff;}#sk-container-id-6 input.sk-hidden--visually {border: 0;clip: rect(1px 1px 1px 1px);clip: rect(1px, 1px, 1px, 1px);height: 1px;margin: -1px;overflow: hidden;padding: 0;position: absolute;width: 1px;}#sk-container-id-6 div.sk-estimator {font-family: monospace;background-color: #f0f8ff;border: 1px dotted black;border-radius: 0.25em;box-sizing: border-box;margin-bottom: 0.5em;}#sk-container-id-6 div.sk-estimator:hover {background-color: #d4ebff;}#sk-container-id-6 div.sk-parallel-item::after {content: \"\";width: 100%;border-bottom: 1px solid gray;flex-grow: 1;}#sk-container-id-6 div.sk-label:hover label.sk-toggleable__label {background-color: #d4ebff;}#sk-container-id-6 div.sk-serial::before {content: \"\";position: absolute;border-left: 1px solid gray;box-sizing: border-box;top: 0;bottom: 0;left: 50%;z-index: 0;}#sk-container-id-6 div.sk-serial {display: flex;flex-direction: column;align-items: center;background-color: white;padding-right: 0.2em;padding-left: 0.2em;position: relative;}#sk-container-id-6 div.sk-item {position: relative;z-index: 1;}#sk-container-id-6 div.sk-parallel {display: flex;align-items: stretch;justify-content: center;background-color: white;position: relative;}#sk-container-id-6 div.sk-item::before, #sk-container-id-6 div.sk-parallel-item::before {content: \"\";position: absolute;border-left: 1px solid gray;box-sizing: border-box;top: 0;bottom: 0;left: 50%;z-index: -1;}#sk-container-id-6 div.sk-parallel-item {display: flex;flex-direction: column;z-index: 1;position: relative;background-color: white;}#sk-container-id-6 div.sk-parallel-item:first-child::after {align-self: flex-end;width: 50%;}#sk-container-id-6 div.sk-parallel-item:last-child::after {align-self: flex-start;width: 50%;}#sk-container-id-6 div.sk-parallel-item:only-child::after {width: 0;}#sk-container-id-6 div.sk-dashed-wrapped {border: 1px dashed gray;margin: 0 0.4em 0.5em 0.4em;box-sizing: border-box;padding-bottom: 0.4em;background-color: white;}#sk-container-id-6 div.sk-label label {font-family: monospace;font-weight: bold;display: inline-block;line-height: 1.2em;}#sk-container-id-6 div.sk-label-container {text-align: center;}#sk-container-id-6 div.sk-container {/* jupyter's `normalize.less` sets `[hidden] { display: none; }` but bootstrap.min.css set `[hidden] { display: none !important; }` so we also need the `!important` here to be able to override the default hidden behavior on the sphinx rendered scikit-learn.org. See: https://github.com/scikit-learn/scikit-learn/issues/21755 */display: inline-block !important;position: relative;}#sk-container-id-6 div.sk-text-repr-fallback {display: none;}</style><div id=\"sk-container-id-6\" class=\"sk-top-container\"><div class=\"sk-text-repr-fallback\"><pre>LogisticRegression(solver=&#x27;liblinear&#x27;)</pre><b>In a Jupyter environment, please rerun this cell to show the HTML representation or trust the notebook. <br />On GitHub, the HTML representation is unable to render, please try loading this page with nbviewer.org.</b></div><div class=\"sk-container\" hidden><div class=\"sk-item\"><div class=\"sk-estimator sk-toggleable\"><input class=\"sk-toggleable__control sk-hidden--visually\" id=\"sk-estimator-id-6\" type=\"checkbox\" checked><label for=\"sk-estimator-id-6\" class=\"sk-toggleable__label sk-toggleable__label-arrow\">LogisticRegression</label><div class=\"sk-toggleable__content\"><pre>LogisticRegression(solver=&#x27;liblinear&#x27;)</pre></div></div></div></div></div>"
      ],
      "text/plain": [
       "LogisticRegression(solver='liblinear')"
      ]
     },
     "execution_count": 138,
     "metadata": {},
     "output_type": "execute_result"
    }
   ],
   "source": [
    "model.fit(X_train, y_train)"
   ]
  },
  {
   "cell_type": "markdown",
   "id": "d1d7289a-8ef4-452a-9f9f-c39e41251386",
   "metadata": {},
   "source": [
    "### Evaluating the accuracy of our model\n",
    "We will evaluate the accuracy of our model on the validation dataset using a threshold of 0.5.  If the model's predicted probability is greater than or equal to 0.5 then we predict that this individual would be a good lead, else we predict that the individual would not be a good lead."
   ]
  },
  {
   "cell_type": "code",
   "execution_count": 139,
   "id": "abe34806-9287-4d8d-8926-3ace07a78d95",
   "metadata": {},
   "outputs": [
    {
     "data": {
      "text/plain": [
       "0.8516227490080375"
      ]
     },
     "execution_count": 139,
     "metadata": {},
     "output_type": "execute_result"
    }
   ],
   "source": [
    "val_dict = df_val[categorical_columns + numeric_columns].to_dict(orient='records')\n",
    "X_val = dv.transform(val_dict)\n",
    "\n",
    "y_pred = model.predict_proba(X_val)[:, 1]\n",
    "lead_decision = (y_pred >= 0.5)\n",
    "(y_val == lead_decision).mean()"
   ]
  },
  {
   "cell_type": "markdown",
   "id": "2df8ac10-cc69-4c42-ac52-8476070246cd",
   "metadata": {},
   "source": [
    "Let's find a customer who is NOT predicted to be a good lead:"
   ]
  },
  {
   "cell_type": "code",
   "execution_count": 160,
   "id": "825df627-f5ba-4615-8981-624106c4d58f",
   "metadata": {},
   "outputs": [
    {
     "data": {
      "text/plain": [
       "0"
      ]
     },
     "execution_count": 160,
     "metadata": {},
     "output_type": "execute_result"
    }
   ],
   "source": [
    "leads = y_pred < 0.5\n",
    "list(leads).index(True)"
   ]
  },
  {
   "cell_type": "code",
   "execution_count": 161,
   "id": "8dd09008-8b56-4c8e-a5c5-e8a8f823593a",
   "metadata": {},
   "outputs": [
    {
     "data": {
      "text/plain": [
       "0.02684809622933708"
      ]
     },
     "execution_count": 161,
     "metadata": {},
     "output_type": "execute_result"
    }
   ],
   "source": [
    "y_pred[0]"
   ]
  },
  {
   "cell_type": "code",
   "execution_count": 162,
   "id": "150fc0aa-7c75-4d98-a2d5-b0a3fe2e2f9c",
   "metadata": {},
   "outputs": [
    {
     "data": {
      "text/plain": [
       "{'gender': 'Female',\n",
       " 'region_code': 'RG269',\n",
       " 'occupation': 'Other',\n",
       " 'channel_code': 'X1',\n",
       " 'credit_product': 'No',\n",
       " 'is_active': 'No',\n",
       " 'age': 36,\n",
       " 'vintage': 27,\n",
       " 'avg_account_balance': 12.727015912884449}"
      ]
     },
     "execution_count": 162,
     "metadata": {},
     "output_type": "execute_result"
    }
   ],
   "source": [
    "val_dict[0]"
   ]
  },
  {
   "cell_type": "markdown",
   "id": "2c136bf3-abf2-4c37-b18a-359c4e254a5f",
   "metadata": {},
   "source": [
    "Let's find a customer who is predicted to be a good lead:"
   ]
  },
  {
   "cell_type": "code",
   "execution_count": 157,
   "id": "f125e238-d74b-41ce-96f3-47fc2dc80e19",
   "metadata": {},
   "outputs": [
    {
     "data": {
      "text/plain": [
       "10"
      ]
     },
     "execution_count": 157,
     "metadata": {},
     "output_type": "execute_result"
    }
   ],
   "source": [
    "leads = y_pred >= 0.5\n",
    "list(leads).index(True)"
   ]
  },
  {
   "cell_type": "code",
   "execution_count": 159,
   "id": "42a9f66c-83d1-44c5-a08e-b08dce20d169",
   "metadata": {},
   "outputs": [
    {
     "data": {
      "text/plain": [
       "0.906837897723015"
      ]
     },
     "execution_count": 159,
     "metadata": {},
     "output_type": "execute_result"
    }
   ],
   "source": [
    "y_pred[10]"
   ]
  },
  {
   "cell_type": "code",
   "execution_count": 158,
   "id": "c5062713-cecb-4bf8-9ce7-620ba9d4161e",
   "metadata": {},
   "outputs": [
    {
     "data": {
      "text/plain": [
       "{'gender': 'Male',\n",
       " 'region_code': 'RG269',\n",
       " 'occupation': 'Self_Employed',\n",
       " 'channel_code': 'X2',\n",
       " 'credit_product': 'Unknown',\n",
       " 'is_active': 'Yes',\n",
       " 'age': 54,\n",
       " 'vintage': 63,\n",
       " 'avg_account_balance': 13.851664072068086}"
      ]
     },
     "execution_count": 158,
     "metadata": {},
     "output_type": "execute_result"
    }
   ],
   "source": [
    "val_dict[10]"
   ]
  },
  {
   "cell_type": "markdown",
   "id": "3a7c01b2-c829-4bab-8061-15bcb40e4c3f",
   "metadata": {},
   "source": [
    "### Perhaps there is a better threshold we can use?  \n",
    "Let's check various thresholds:"
   ]
  },
  {
   "cell_type": "code",
   "execution_count": 49,
   "id": "e09b3931-18b5-4b65-adae-27d1c0f3f90c",
   "metadata": {},
   "outputs": [
    {
     "data": {
      "text/plain": [
       "49145"
      ]
     },
     "execution_count": 49,
     "metadata": {},
     "output_type": "execute_result"
    }
   ],
   "source": [
    "len(y_val)"
   ]
  },
  {
   "cell_type": "code",
   "execution_count": 50,
   "id": "fd3e01c4-5e45-4223-bc04-5b5d38928368",
   "metadata": {},
   "outputs": [],
   "source": [
    "from sklearn.metrics import accuracy_score"
   ]
  },
  {
   "cell_type": "code",
   "execution_count": 51,
   "id": "833bab52-cb01-4dc8-8b5c-dba970375c02",
   "metadata": {},
   "outputs": [
    {
     "data": {
      "text/plain": [
       "0.8516227490080375"
      ]
     },
     "execution_count": 51,
     "metadata": {},
     "output_type": "execute_result"
    }
   ],
   "source": [
    "accuracy_score(y_val, y_pred >= 0.5)"
   ]
  },
  {
   "cell_type": "code",
   "execution_count": 52,
   "id": "f7b4f5cd-8086-4725-89da-76bb1384355e",
   "metadata": {},
   "outputs": [
    {
     "name": "stdout",
     "output_type": "stream",
     "text": [
      "0.00 0.237\n",
      "0.05 0.390\n",
      "0.10 0.644\n",
      "0.15 0.735\n",
      "0.20 0.776\n",
      "0.25 0.807\n",
      "0.30 0.824\n",
      "0.35 0.836\n",
      "0.40 0.845\n",
      "0.45 0.850\n",
      "0.50 0.852\n",
      "0.55 0.851\n",
      "0.60 0.848\n",
      "0.65 0.845\n",
      "0.70 0.843\n",
      "0.75 0.838\n",
      "0.80 0.829\n",
      "0.85 0.816\n",
      "0.90 0.787\n",
      "0.95 0.766\n",
      "1.00 0.763\n"
     ]
    }
   ],
   "source": [
    "thresholds = np.linspace(0, 1, 21)\n",
    "\n",
    "scores = []\n",
    "\n",
    "for t in thresholds:\n",
    "    score = accuracy_score(y_val, y_pred >= t)\n",
    "    print('%.2f %.3f' % (t, score))\n",
    "    scores.append(score)"
   ]
  },
  {
   "cell_type": "code",
   "execution_count": 53,
   "id": "78132e11-28ce-4c06-a8a9-1f9aaf08a553",
   "metadata": {},
   "outputs": [
    {
     "data": {
      "text/plain": [
       "[<matplotlib.lines.Line2D at 0x29d103220>]"
      ]
     },
     "execution_count": 53,
     "metadata": {},
     "output_type": "execute_result"
    },
    {
     "data": {
      "image/png": "[encoded data removed]",
      "text/plain": [
       "<Figure size 900x500 with 1 Axes>"
      ]
     },
     "metadata": {
      "needs_background": "light"
     },
     "output_type": "display_data"
    }
   ],
   "source": [
    "plt.plot(thresholds, scores)"
   ]
  },
  {
   "cell_type": "markdown",
   "id": "f531db5e-50c6-48fd-82b3-14de980a10a8",
   "metadata": {},
   "source": [
    "The threshold that yields the highest accuracy (of 0.852) is 0.5."
   ]
  },
  {
   "cell_type": "markdown",
   "id": "43af2016-a9a3-4aa5-87af-240c97d6e71a",
   "metadata": {},
   "source": [
    "### Confusion Table\n",
    "Let's calculate the number of true positives, false positives, true negatives, and false negatives at a threshold of 0.5"
   ]
  },
  {
   "cell_type": "code",
   "execution_count": 54,
   "id": "789b8dac-5fb1-4444-b235-c5886405a552",
   "metadata": {},
   "outputs": [],
   "source": [
    "actual_positive = (y_val == 1)\n",
    "actual_negative = (y_val == 0)"
   ]
  },
  {
   "cell_type": "code",
   "execution_count": 55,
   "id": "06000e83-7b0d-4174-8159-fa144462b9eb",
   "metadata": {},
   "outputs": [],
   "source": [
    "t = 0.5\n",
    "predict_positive = (y_pred >= t)\n",
    "predict_negative = (y_pred < t)"
   ]
  },
  {
   "cell_type": "code",
   "execution_count": 56,
   "id": "75536181-7567-411a-bfc4-7cba44044968",
   "metadata": {},
   "outputs": [],
   "source": [
    "tp = (predict_positive & actual_positive).sum()\n",
    "tn = (predict_negative & actual_negative).sum()\n",
    "\n",
    "fp = (predict_positive & actual_negative).sum()\n",
    "fn = (predict_negative & actual_positive).sum()"
   ]
  },
  {
   "cell_type": "code",
   "execution_count": 57,
   "id": "03b99f01-6d04-403f-916a-a38ee8fda483",
   "metadata": {},
   "outputs": [
    {
     "data": {
      "text/plain": [
       "array([[36214,  1274],\n",
       "       [ 6018,  5639]])"
      ]
     },
     "execution_count": 57,
     "metadata": {},
     "output_type": "execute_result"
    }
   ],
   "source": [
    "confusion_matrix = np.array([\n",
    "    [tn, fp],\n",
    "    [fn, tp]\n",
    "])\n",
    "confusion_matrix"
   ]
  },
  {
   "cell_type": "code",
   "execution_count": 58,
   "id": "60dda059-b5a5-4788-8775-fda05adc03df",
   "metadata": {},
   "outputs": [
    {
     "data": {
      "text/plain": [
       "array([[0.74, 0.03],\n",
       "       [0.12, 0.11]])"
      ]
     },
     "execution_count": 58,
     "metadata": {},
     "output_type": "execute_result"
    }
   ],
   "source": [
    "(confusion_matrix / confusion_matrix.sum()).round(2)"
   ]
  },
  {
   "cell_type": "code",
   "execution_count": 59,
   "id": "1702dd91-b57f-4c70-90a3-579dcf58d4db",
   "metadata": {},
   "outputs": [
    {
     "data": {
      "text/plain": [
       "0.48374367332933"
      ]
     },
     "execution_count": 59,
     "metadata": {},
     "output_type": "execute_result"
    }
   ],
   "source": [
    "# True Positive Rate (Sensitivity) - probability that an actual lead will be predicted to be a lead by the model\n",
    "# In real world terms this means that our model at this threshold is not identifying over 50% of good leads!  \n",
    "tpr = tp / (tp + fn)\n",
    "tpr"
   ]
  },
  {
   "cell_type": "code",
   "execution_count": 60,
   "id": "ef04c138-9b65-42c8-809e-9ee6e607fbc0",
   "metadata": {},
   "outputs": [
    {
     "data": {
      "text/plain": [
       "0.03398420827998293"
      ]
     },
     "execution_count": 60,
     "metadata": {},
     "output_type": "execute_result"
    }
   ],
   "source": [
    "# False Positive Rate - probability that the model will flag the individual as a lead when it really isn't\n",
    "# In real world terms this might mean that in 3.4% of cases we would market to someone who is not interested in the credit card\n",
    "fpr = fp / (fp + tn)\n",
    "fpr"
   ]
  },
  {
   "cell_type": "markdown",
   "id": "421d0aa1-907c-4013-a85e-9f13fc3f633e",
   "metadata": {},
   "source": [
    "Want to maximize true positive rate and minimize false positive rate"
   ]
  },
  {
   "cell_type": "markdown",
   "id": "998cc3fa-8397-4abb-8af8-dfec16789c51",
   "metadata": {},
   "source": [
    "### ROC Curve"
   ]
  },
  {
   "cell_type": "code",
   "execution_count": 61,
   "id": "5b830a01-3c73-411f-8d51-6777f2d200d2",
   "metadata": {},
   "outputs": [],
   "source": [
    "from sklearn.metrics import roc_curve"
   ]
  },
  {
   "cell_type": "code",
   "execution_count": 62,
   "id": "a1a0ca24-7174-48ad-a439-12102739a1a3",
   "metadata": {},
   "outputs": [],
   "source": [
    "fpr, tpr, thresholds = roc_curve(y_val, y_pred)"
   ]
  },
  {
   "cell_type": "code",
   "execution_count": 63,
   "id": "6d75ed7e-3be3-4f7f-8e6f-f27ede168aa9",
   "metadata": {},
   "outputs": [
    {
     "data": {
      "text/plain": [
       "<matplotlib.legend.Legend at 0x29fbc6c10>"
      ]
     },
     "execution_count": 63,
     "metadata": {},
     "output_type": "execute_result"
    },
    {
     "data": {
      "image/png": "[encoded data removed]",
      "text/plain": [
       "<Figure size 500x500 with 1 Axes>"
      ]
     },
     "metadata": {
      "needs_background": "light"
     },
     "output_type": "display_data"
    }
   ],
   "source": [
    "plt.figure(figsize=(5, 5))\n",
    "\n",
    "plt.plot(fpr, tpr, label='Model')\n",
    "plt.plot([0, 1], [0, 1], label='Random', linestyle='--')\n",
    "\n",
    "plt.xlabel('FPR')\n",
    "plt.ylabel('TPR')\n",
    "\n",
    "plt.legend()"
   ]
  },
  {
   "cell_type": "code",
   "execution_count": 64,
   "id": "c59bc454-8111-4956-8863-c460d3101aec",
   "metadata": {},
   "outputs": [],
   "source": [
    "from sklearn.metrics import roc_auc_score"
   ]
  },
  {
   "cell_type": "code",
   "execution_count": 65,
   "id": "043f04f1-254b-4b2d-a276-e4effc6e249a",
   "metadata": {},
   "outputs": [
    {
     "data": {
      "text/plain": [
       "0.8560367386535125"
      ]
     },
     "execution_count": 65,
     "metadata": {},
     "output_type": "execute_result"
    }
   ],
   "source": [
    "roc_auc_score(y_val, y_pred)"
   ]
  },
  {
   "cell_type": "markdown",
   "id": "28b238a3-4a9e-4846-9017-e51539710e17",
   "metadata": {},
   "source": [
    "AUC interpretation: Probability that a randomly selected positive individual (is_lead == 1) has a larger model score than a randomly selected negative individual (is_lead == 0).  An ideal model would have an AUC score closer to 1 but 0.856 isn't bad.  Let's see if other models can beat its performance."
   ]
  },
  {
   "cell_type": "markdown",
   "id": "9f37068e-9af4-4861-b4f9-c3151f92094e",
   "metadata": {},
   "source": [
    "## Decision Tree Model"
   ]
  },
  {
   "cell_type": "code",
   "execution_count": 66,
   "id": "37e818e8-999c-4b5e-86af-7a3883acf01e",
   "metadata": {},
   "outputs": [],
   "source": [
    "from sklearn.tree import DecisionTreeClassifier\n",
    "from sklearn.tree import export_text"
   ]
  },
  {
   "cell_type": "code",
   "execution_count": 67,
   "id": "4d77a745-43a3-49e1-aa4f-8cfada15bd81",
   "metadata": {},
   "outputs": [],
   "source": [
    "train_dicts = df_train.to_dict(orient='records')"
   ]
  },
  {
   "cell_type": "code",
   "execution_count": 68,
   "id": "d4d8245e-6fdc-4697-93f3-9445d1eefcca",
   "metadata": {},
   "outputs": [],
   "source": [
    "dv = DictVectorizer(sparse=False)\n",
    "X_train = dv.fit_transform(train_dicts)"
   ]
  },
  {
   "cell_type": "code",
   "execution_count": 69,
   "id": "bc2a7879-4964-44ac-a773-a55febc75ced",
   "metadata": {},
   "outputs": [
    {
     "data": {
      "text/html": [
       "<style>#sk-container-id-2 {color: black;}#sk-container-id-2 pre{padding: 0;}#sk-container-id-2 div.sk-toggleable {background-color: white;}#sk-container-id-2 label.sk-toggleable__label {cursor: pointer;display: block;width: 100%;margin-bottom: 0;padding: 0.3em;box-sizing: border-box;text-align: center;}#sk-container-id-2 label.sk-toggleable__label-arrow:before {content: \"▸\";float: left;margin-right: 0.25em;color: #696969;}#sk-container-id-2 label.sk-toggleable__label-arrow:hover:before {color: black;}#sk-container-id-2 div.sk-estimator:hover label.sk-toggleable__label-arrow:before {color: black;}#sk-container-id-2 div.sk-toggleable__content {max-height: 0;max-width: 0;overflow: hidden;text-align: left;background-color: #f0f8ff;}#sk-container-id-2 div.sk-toggleable__content pre {margin: 0.2em;color: black;border-radius: 0.25em;background-color: #f0f8ff;}#sk-container-id-2 input.sk-toggleable__control:checked~div.sk-toggleable__content {max-height: 200px;max-width: 100%;overflow: auto;}#sk-container-id-2 input.sk-toggleable__control:checked~label.sk-toggleable__label-arrow:before {content: \"▾\";}#sk-container-id-2 div.sk-estimator input.sk-toggleable__control:checked~label.sk-toggleable__label {background-color: #d4ebff;}#sk-container-id-2 div.sk-label input.sk-toggleable__control:checked~label.sk-toggleable__label {background-color: #d4ebff;}#sk-container-id-2 input.sk-hidden--visually {border: 0;clip: rect(1px 1px 1px 1px);clip: rect(1px, 1px, 1px, 1px);height: 1px;margin: -1px;overflow: hidden;padding: 0;position: absolute;width: 1px;}#sk-container-id-2 div.sk-estimator {font-family: monospace;background-color: #f0f8ff;border: 1px dotted black;border-radius: 0.25em;box-sizing: border-box;margin-bottom: 0.5em;}#sk-container-id-2 div.sk-estimator:hover {background-color: #d4ebff;}#sk-container-id-2 div.sk-parallel-item::after {content: \"\";width: 100%;border-bottom: 1px solid gray;flex-grow: 1;}#sk-container-id-2 div.sk-label:hover label.sk-toggleable__label {background-color: #d4ebff;}#sk-container-id-2 div.sk-serial::before {content: \"\";position: absolute;border-left: 1px solid gray;box-sizing: border-box;top: 0;bottom: 0;left: 50%;z-index: 0;}#sk-container-id-2 div.sk-serial {display: flex;flex-direction: column;align-items: center;background-color: white;padding-right: 0.2em;padding-left: 0.2em;position: relative;}#sk-container-id-2 div.sk-item {position: relative;z-index: 1;}#sk-container-id-2 div.sk-parallel {display: flex;align-items: stretch;justify-content: center;background-color: white;position: relative;}#sk-container-id-2 div.sk-item::before, #sk-container-id-2 div.sk-parallel-item::before {content: \"\";position: absolute;border-left: 1px solid gray;box-sizing: border-box;top: 0;bottom: 0;left: 50%;z-index: -1;}#sk-container-id-2 div.sk-parallel-item {display: flex;flex-direction: column;z-index: 1;position: relative;background-color: white;}#sk-container-id-2 div.sk-parallel-item:first-child::after {align-self: flex-end;width: 50%;}#sk-container-id-2 div.sk-parallel-item:last-child::after {align-self: flex-start;width: 50%;}#sk-container-id-2 div.sk-parallel-item:only-child::after {width: 0;}#sk-container-id-2 div.sk-dashed-wrapped {border: 1px dashed gray;margin: 0 0.4em 0.5em 0.4em;box-sizing: border-box;padding-bottom: 0.4em;background-color: white;}#sk-container-id-2 div.sk-label label {font-family: monospace;font-weight: bold;display: inline-block;line-height: 1.2em;}#sk-container-id-2 div.sk-label-container {text-align: center;}#sk-container-id-2 div.sk-container {/* jupyter's `normalize.less` sets `[hidden] { display: none; }` but bootstrap.min.css set `[hidden] { display: none !important; }` so we also need the `!important` here to be able to override the default hidden behavior on the sphinx rendered scikit-learn.org. See: https://github.com/scikit-learn/scikit-learn/issues/21755 */display: inline-block !important;position: relative;}#sk-container-id-2 div.sk-text-repr-fallback {display: none;}</style><div id=\"sk-container-id-2\" class=\"sk-top-container\"><div class=\"sk-text-repr-fallback\"><pre>DecisionTreeClassifier()</pre><b>In a Jupyter environment, please rerun this cell to show the HTML representation or trust the notebook. <br />On GitHub, the HTML representation is unable to render, please try loading this page with nbviewer.org.</b></div><div class=\"sk-container\" hidden><div class=\"sk-item\"><div class=\"sk-estimator sk-toggleable\"><input class=\"sk-toggleable__control sk-hidden--visually\" id=\"sk-estimator-id-2\" type=\"checkbox\" checked><label for=\"sk-estimator-id-2\" class=\"sk-toggleable__label sk-toggleable__label-arrow\">DecisionTreeClassifier</label><div class=\"sk-toggleable__content\"><pre>DecisionTreeClassifier()</pre></div></div></div></div></div>"
      ],
      "text/plain": [
       "DecisionTreeClassifier()"
      ]
     },
     "execution_count": 69,
     "metadata": {},
     "output_type": "execute_result"
    }
   ],
   "source": [
    "dt = DecisionTreeClassifier()\n",
    "dt.fit(X_train, y_train)"
   ]
  },
  {
   "cell_type": "markdown",
   "id": "4043652c-27be-4138-aa95-89f45d8856a2",
   "metadata": {},
   "source": [
    "### Evaluating the model"
   ]
  },
  {
   "cell_type": "code",
   "execution_count": 70,
   "id": "29bffcc0-0d47-4680-a239-86a321352dca",
   "metadata": {},
   "outputs": [],
   "source": [
    "val_dicts = df_val.to_dict(orient='records')\n",
    "X_val = dv.transform(val_dicts)"
   ]
  },
  {
   "cell_type": "code",
   "execution_count": 71,
   "id": "b7297d8c-5434-47a2-8815-20089bfedabb",
   "metadata": {},
   "outputs": [
    {
     "data": {
      "text/plain": [
       "0.7122129712030283"
      ]
     },
     "execution_count": 71,
     "metadata": {},
     "output_type": "execute_result"
    }
   ],
   "source": [
    "y_pred = dt.predict_proba(X_val)[:, 1]\n",
    "roc_auc_score(y_val, y_pred)"
   ]
  },
  {
   "cell_type": "code",
   "execution_count": 72,
   "id": "fad8d3ef-bc87-4d5e-9f89-e2845aa5347d",
   "metadata": {},
   "outputs": [
    {
     "data": {
      "text/plain": [
       "0.9999999998731941"
      ]
     },
     "execution_count": 72,
     "metadata": {},
     "output_type": "execute_result"
    }
   ],
   "source": [
    "y_pred_train = dt.predict_proba(X_train)[:, 1]\n",
    "roc_auc_score(y_train, y_pred_train)"
   ]
  },
  {
   "cell_type": "markdown",
   "id": "ecf9389c-4651-43ae-a0c5-6bd0bee4c4b4",
   "metadata": {},
   "source": [
    "We have overfitting here (since the auc is 1 on the training dataset and only 0.711 on the validation dataset) so we need to control the number of levels"
   ]
  },
  {
   "cell_type": "code",
   "execution_count": 73,
   "id": "254beec7-81db-42d5-8b92-f69b7fcc553f",
   "metadata": {},
   "outputs": [
    {
     "data": {
      "text/html": [
       "<style>#sk-container-id-3 {color: black;}#sk-container-id-3 pre{padding: 0;}#sk-container-id-3 div.sk-toggleable {background-color: white;}#sk-container-id-3 label.sk-toggleable__label {cursor: pointer;display: block;width: 100%;margin-bottom: 0;padding: 0.3em;box-sizing: border-box;text-align: center;}#sk-container-id-3 label.sk-toggleable__label-arrow:before {content: \"▸\";float: left;margin-right: 0.25em;color: #696969;}#sk-container-id-3 label.sk-toggleable__label-arrow:hover:before {color: black;}#sk-container-id-3 div.sk-estimator:hover label.sk-toggleable__label-arrow:before {color: black;}#sk-container-id-3 div.sk-toggleable__content {max-height: 0;max-width: 0;overflow: hidden;text-align: left;background-color: #f0f8ff;}#sk-container-id-3 div.sk-toggleable__content pre {margin: 0.2em;color: black;border-radius: 0.25em;background-color: #f0f8ff;}#sk-container-id-3 input.sk-toggleable__control:checked~div.sk-toggleable__content {max-height: 200px;max-width: 100%;overflow: auto;}#sk-container-id-3 input.sk-toggleable__control:checked~label.sk-toggleable__label-arrow:before {content: \"▾\";}#sk-container-id-3 div.sk-estimator input.sk-toggleable__control:checked~label.sk-toggleable__label {background-color: #d4ebff;}#sk-container-id-3 div.sk-label input.sk-toggleable__control:checked~label.sk-toggleable__label {background-color: #d4ebff;}#sk-container-id-3 input.sk-hidden--visually {border: 0;clip: rect(1px 1px 1px 1px);clip: rect(1px, 1px, 1px, 1px);height: 1px;margin: -1px;overflow: hidden;padding: 0;position: absolute;width: 1px;}#sk-container-id-3 div.sk-estimator {font-family: monospace;background-color: #f0f8ff;border: 1px dotted black;border-radius: 0.25em;box-sizing: border-box;margin-bottom: 0.5em;}#sk-container-id-3 div.sk-estimator:hover {background-color: #d4ebff;}#sk-container-id-3 div.sk-parallel-item::after {content: \"\";width: 100%;border-bottom: 1px solid gray;flex-grow: 1;}#sk-container-id-3 div.sk-label:hover label.sk-toggleable__label {background-color: #d4ebff;}#sk-container-id-3 div.sk-serial::before {content: \"\";position: absolute;border-left: 1px solid gray;box-sizing: border-box;top: 0;bottom: 0;left: 50%;z-index: 0;}#sk-container-id-3 div.sk-serial {display: flex;flex-direction: column;align-items: center;background-color: white;padding-right: 0.2em;padding-left: 0.2em;position: relative;}#sk-container-id-3 div.sk-item {position: relative;z-index: 1;}#sk-container-id-3 div.sk-parallel {display: flex;align-items: stretch;justify-content: center;background-color: white;position: relative;}#sk-container-id-3 div.sk-item::before, #sk-container-id-3 div.sk-parallel-item::before {content: \"\";position: absolute;border-left: 1px solid gray;box-sizing: border-box;top: 0;bottom: 0;left: 50%;z-index: -1;}#sk-container-id-3 div.sk-parallel-item {display: flex;flex-direction: column;z-index: 1;position: relative;background-color: white;}#sk-container-id-3 div.sk-parallel-item:first-child::after {align-self: flex-end;width: 50%;}#sk-container-id-3 div.sk-parallel-item:last-child::after {align-self: flex-start;width: 50%;}#sk-container-id-3 div.sk-parallel-item:only-child::after {width: 0;}#sk-container-id-3 div.sk-dashed-wrapped {border: 1px dashed gray;margin: 0 0.4em 0.5em 0.4em;box-sizing: border-box;padding-bottom: 0.4em;background-color: white;}#sk-container-id-3 div.sk-label label {font-family: monospace;font-weight: bold;display: inline-block;line-height: 1.2em;}#sk-container-id-3 div.sk-label-container {text-align: center;}#sk-container-id-3 div.sk-container {/* jupyter's `normalize.less` sets `[hidden] { display: none; }` but bootstrap.min.css set `[hidden] { display: none !important; }` so we also need the `!important` here to be able to override the default hidden behavior on the sphinx rendered scikit-learn.org. See: https://github.com/scikit-learn/scikit-learn/issues/21755 */display: inline-block !important;position: relative;}#sk-container-id-3 div.sk-text-repr-fallback {display: none;}</style><div id=\"sk-container-id-3\" class=\"sk-top-container\"><div class=\"sk-text-repr-fallback\"><pre>DecisionTreeClassifier(max_depth=2)</pre><b>In a Jupyter environment, please rerun this cell to show the HTML representation or trust the notebook. <br />On GitHub, the HTML representation is unable to render, please try loading this page with nbviewer.org.</b></div><div class=\"sk-container\" hidden><div class=\"sk-item\"><div class=\"sk-estimator sk-toggleable\"><input class=\"sk-toggleable__control sk-hidden--visually\" id=\"sk-estimator-id-3\" type=\"checkbox\" checked><label for=\"sk-estimator-id-3\" class=\"sk-toggleable__label sk-toggleable__label-arrow\">DecisionTreeClassifier</label><div class=\"sk-toggleable__content\"><pre>DecisionTreeClassifier(max_depth=2)</pre></div></div></div></div></div>"
      ],
      "text/plain": [
       "DecisionTreeClassifier(max_depth=2)"
      ]
     },
     "execution_count": 73,
     "metadata": {},
     "output_type": "execute_result"
    }
   ],
   "source": [
    "dt = DecisionTreeClassifier(max_depth=2)\n",
    "dt.fit(X_train, y_train)"
   ]
  },
  {
   "cell_type": "code",
   "execution_count": 74,
   "id": "0ad2a1b8-5018-4d81-8136-a28366abb37b",
   "metadata": {},
   "outputs": [
    {
     "name": "stdout",
     "output_type": "stream",
     "text": [
      "train: 0.8185672657411428\n",
      "val: 0.81732541419631\n"
     ]
    }
   ],
   "source": [
    "y_pred_train = dt.predict_proba(X_train)[:, 1]\n",
    "auc = roc_auc_score(y_train, y_pred_train)\n",
    "print('train:', auc)\n",
    "\n",
    "y_pred_val = dt.predict_proba(X_val)[:, 1]\n",
    "auc = roc_auc_score(y_val, y_pred_val)\n",
    "print('val:', auc)"
   ]
  },
  {
   "cell_type": "markdown",
   "id": "907b2142-8c27-480a-9610-83803b60bef2",
   "metadata": {},
   "source": [
    "### Parameter Tuning\n",
    "* selecting `max_depth`\n",
    "* selecting `min_samples_leaf`"
   ]
  },
  {
   "cell_type": "code",
   "execution_count": 75,
   "id": "cb29d726-965c-41c6-b6d0-395df7d22f27",
   "metadata": {},
   "outputs": [
    {
     "name": "stdout",
     "output_type": "stream",
     "text": [
      "   1 -> 0.697\n",
      "   2 -> 0.817\n",
      "   3 -> 0.846\n",
      "   4 -> 0.856\n",
      "   5 -> 0.863\n",
      "   6 -> 0.866\n",
      "  10 -> 0.866\n",
      "  15 -> 0.834\n",
      "  20 -> 0.784\n",
      "None -> 0.709\n"
     ]
    }
   ],
   "source": [
    "depths = [1, 2, 3, 4, 5, 6, 10, 15, 20, None]\n",
    "\n",
    "for depth in depths: \n",
    "    dt = DecisionTreeClassifier(max_depth=depth)\n",
    "    dt.fit(X_train, y_train)\n",
    "    \n",
    "    y_pred = dt.predict_proba(X_val)[:, 1]\n",
    "    auc = roc_auc_score(y_val, y_pred)\n",
    "    \n",
    "    print('%4s -> %.3f' % (depth, auc))"
   ]
  },
  {
   "cell_type": "code",
   "execution_count": 76,
   "id": "1f6449c4-a48a-4159-9deb-0f4572b2b1c3",
   "metadata": {},
   "outputs": [],
   "source": [
    "scores = []\n",
    "\n",
    "for depth in [6, 8, 10, 12]:\n",
    "    for s in [1, 5, 10, 15, 20, 500, 100, 200]:\n",
    "        dt = DecisionTreeClassifier(max_depth=depth, min_samples_leaf=s)\n",
    "        dt.fit(X_train, y_train)\n",
    "\n",
    "        y_pred = dt.predict_proba(X_val)[:, 1]\n",
    "        auc = roc_auc_score(y_val, y_pred)\n",
    "        \n",
    "        scores.append((depth, s, auc))"
   ]
  },
  {
   "cell_type": "code",
   "execution_count": 77,
   "id": "5faf5734-5974-4527-86d2-f5e1f65488d2",
   "metadata": {},
   "outputs": [],
   "source": [
    "columns = ['max_depth', 'min_samples_leaf', 'auc']\n",
    "df_scores = pd.DataFrame(scores, columns=columns)"
   ]
  },
  {
   "cell_type": "code",
   "execution_count": 78,
   "id": "3a3991a6-b7c4-4c97-a7ad-2a3eec960e0b",
   "metadata": {},
   "outputs": [
    {
     "data": {
      "text/html": [
       "<div>\n",
       "<style scoped>\n",
       "    .dataframe tbody tr th:only-of-type {\n",
       "        vertical-align: middle;\n",
       "    }\n",
       "\n",
       "    .dataframe tbody tr th {\n",
       "        vertical-align: top;\n",
       "    }\n",
       "\n",
       "    .dataframe thead tr th {\n",
       "        text-align: left;\n",
       "    }\n",
       "\n",
       "    .dataframe thead tr:last-of-type th {\n",
       "        text-align: right;\n",
       "    }\n",
       "</style>\n",
       "<table border=\"1\" class=\"dataframe\">\n",
       "  <thead>\n",
       "    <tr>\n",
       "      <th></th>\n",
       "      <th colspan=\"4\" halign=\"left\">auc</th>\n",
       "    </tr>\n",
       "    <tr>\n",
       "      <th>max_depth</th>\n",
       "      <th>6</th>\n",
       "      <th>8</th>\n",
       "      <th>10</th>\n",
       "      <th>12</th>\n",
       "    </tr>\n",
       "    <tr>\n",
       "      <th>min_samples_leaf</th>\n",
       "      <th></th>\n",
       "      <th></th>\n",
       "      <th></th>\n",
       "      <th></th>\n",
       "    </tr>\n",
       "  </thead>\n",
       "  <tbody>\n",
       "    <tr>\n",
       "      <th>1</th>\n",
       "      <td>0.866</td>\n",
       "      <td>0.869</td>\n",
       "      <td>0.866</td>\n",
       "      <td>0.858</td>\n",
       "    </tr>\n",
       "    <tr>\n",
       "      <th>5</th>\n",
       "      <td>0.867</td>\n",
       "      <td>0.871</td>\n",
       "      <td>0.869</td>\n",
       "      <td>0.864</td>\n",
       "    </tr>\n",
       "    <tr>\n",
       "      <th>10</th>\n",
       "      <td>0.867</td>\n",
       "      <td>0.871</td>\n",
       "      <td>0.870</td>\n",
       "      <td>0.866</td>\n",
       "    </tr>\n",
       "    <tr>\n",
       "      <th>15</th>\n",
       "      <td>0.867</td>\n",
       "      <td>0.871</td>\n",
       "      <td>0.870</td>\n",
       "      <td>0.867</td>\n",
       "    </tr>\n",
       "    <tr>\n",
       "      <th>20</th>\n",
       "      <td>0.867</td>\n",
       "      <td>0.871</td>\n",
       "      <td>0.870</td>\n",
       "      <td>0.867</td>\n",
       "    </tr>\n",
       "    <tr>\n",
       "      <th>100</th>\n",
       "      <td>0.867</td>\n",
       "      <td>0.871</td>\n",
       "      <td>0.870</td>\n",
       "      <td>0.868</td>\n",
       "    </tr>\n",
       "    <tr>\n",
       "      <th>200</th>\n",
       "      <td>0.867</td>\n",
       "      <td>0.870</td>\n",
       "      <td>0.870</td>\n",
       "      <td>0.870</td>\n",
       "    </tr>\n",
       "    <tr>\n",
       "      <th>500</th>\n",
       "      <td>0.864</td>\n",
       "      <td>0.868</td>\n",
       "      <td>0.868</td>\n",
       "      <td>0.868</td>\n",
       "    </tr>\n",
       "  </tbody>\n",
       "</table>\n",
       "</div>"
      ],
      "text/plain": [
       "                    auc                     \n",
       "max_depth            6      8      10     12\n",
       "min_samples_leaf                            \n",
       "1                 0.866  0.869  0.866  0.858\n",
       "5                 0.867  0.871  0.869  0.864\n",
       "10                0.867  0.871  0.870  0.866\n",
       "15                0.867  0.871  0.870  0.867\n",
       "20                0.867  0.871  0.870  0.867\n",
       "100               0.867  0.871  0.870  0.868\n",
       "200               0.867  0.870  0.870  0.870\n",
       "500               0.864  0.868  0.868  0.868"
      ]
     },
     "execution_count": 78,
     "metadata": {},
     "output_type": "execute_result"
    }
   ],
   "source": [
    "df_scores_pivot = df_scores.pivot(index='min_samples_leaf', columns=['max_depth'], values=['auc'])\n",
    "df_scores_pivot.round(3)"
   ]
  },
  {
   "cell_type": "code",
   "execution_count": 79,
   "id": "bd8e4813-5e53-4ed6-9bb2-1be33756086d",
   "metadata": {},
   "outputs": [
    {
     "data": {
      "text/plain": [
       "<Axes: xlabel='None-max_depth', ylabel='min_samples_leaf'>"
      ]
     },
     "execution_count": 79,
     "metadata": {},
     "output_type": "execute_result"
    },
    {
     "data": {
      "image/png": "[encoded data removed]",
      "text/plain": [
       "<Figure size 900x500 with 2 Axes>"
      ]
     },
     "metadata": {
      "needs_background": "light"
     },
     "output_type": "display_data"
    }
   ],
   "source": [
    "sns.heatmap(df_scores_pivot, annot=True, fmt=\".3f\", cmap='Blues')"
   ]
  },
  {
   "cell_type": "code",
   "execution_count": 80,
   "id": "50db7739-8cbb-4686-aee9-4d429f26df81",
   "metadata": {},
   "outputs": [
    {
     "data": {
      "text/html": [
       "<style>#sk-container-id-4 {color: black;}#sk-container-id-4 pre{padding: 0;}#sk-container-id-4 div.sk-toggleable {background-color: white;}#sk-container-id-4 label.sk-toggleable__label {cursor: pointer;display: block;width: 100%;margin-bottom: 0;padding: 0.3em;box-sizing: border-box;text-align: center;}#sk-container-id-4 label.sk-toggleable__label-arrow:before {content: \"▸\";float: left;margin-right: 0.25em;color: #696969;}#sk-container-id-4 label.sk-toggleable__label-arrow:hover:before {color: black;}#sk-container-id-4 div.sk-estimator:hover label.sk-toggleable__label-arrow:before {color: black;}#sk-container-id-4 div.sk-toggleable__content {max-height: 0;max-width: 0;overflow: hidden;text-align: left;background-color: #f0f8ff;}#sk-container-id-4 div.sk-toggleable__content pre {margin: 0.2em;color: black;border-radius: 0.25em;background-color: #f0f8ff;}#sk-container-id-4 input.sk-toggleable__control:checked~div.sk-toggleable__content {max-height: 200px;max-width: 100%;overflow: auto;}#sk-container-id-4 input.sk-toggleable__control:checked~label.sk-toggleable__label-arrow:before {content: \"▾\";}#sk-container-id-4 div.sk-estimator input.sk-toggleable__control:checked~label.sk-toggleable__label {background-color: #d4ebff;}#sk-container-id-4 div.sk-label input.sk-toggleable__control:checked~label.sk-toggleable__label {background-color: #d4ebff;}#sk-container-id-4 input.sk-hidden--visually {border: 0;clip: rect(1px 1px 1px 1px);clip: rect(1px, 1px, 1px, 1px);height: 1px;margin: -1px;overflow: hidden;padding: 0;position: absolute;width: 1px;}#sk-container-id-4 div.sk-estimator {font-family: monospace;background-color: #f0f8ff;border: 1px dotted black;border-radius: 0.25em;box-sizing: border-box;margin-bottom: 0.5em;}#sk-container-id-4 div.sk-estimator:hover {background-color: #d4ebff;}#sk-container-id-4 div.sk-parallel-item::after {content: \"\";width: 100%;border-bottom: 1px solid gray;flex-grow: 1;}#sk-container-id-4 div.sk-label:hover label.sk-toggleable__label {background-color: #d4ebff;}#sk-container-id-4 div.sk-serial::before {content: \"\";position: absolute;border-left: 1px solid gray;box-sizing: border-box;top: 0;bottom: 0;left: 50%;z-index: 0;}#sk-container-id-4 div.sk-serial {display: flex;flex-direction: column;align-items: center;background-color: white;padding-right: 0.2em;padding-left: 0.2em;position: relative;}#sk-container-id-4 div.sk-item {position: relative;z-index: 1;}#sk-container-id-4 div.sk-parallel {display: flex;align-items: stretch;justify-content: center;background-color: white;position: relative;}#sk-container-id-4 div.sk-item::before, #sk-container-id-4 div.sk-parallel-item::before {content: \"\";position: absolute;border-left: 1px solid gray;box-sizing: border-box;top: 0;bottom: 0;left: 50%;z-index: -1;}#sk-container-id-4 div.sk-parallel-item {display: flex;flex-direction: column;z-index: 1;position: relative;background-color: white;}#sk-container-id-4 div.sk-parallel-item:first-child::after {align-self: flex-end;width: 50%;}#sk-container-id-4 div.sk-parallel-item:last-child::after {align-self: flex-start;width: 50%;}#sk-container-id-4 div.sk-parallel-item:only-child::after {width: 0;}#sk-container-id-4 div.sk-dashed-wrapped {border: 1px dashed gray;margin: 0 0.4em 0.5em 0.4em;box-sizing: border-box;padding-bottom: 0.4em;background-color: white;}#sk-container-id-4 div.sk-label label {font-family: monospace;font-weight: bold;display: inline-block;line-height: 1.2em;}#sk-container-id-4 div.sk-label-container {text-align: center;}#sk-container-id-4 div.sk-container {/* jupyter's `normalize.less` sets `[hidden] { display: none; }` but bootstrap.min.css set `[hidden] { display: none !important; }` so we also need the `!important` here to be able to override the default hidden behavior on the sphinx rendered scikit-learn.org. See: https://github.com/scikit-learn/scikit-learn/issues/21755 */display: inline-block !important;position: relative;}#sk-container-id-4 div.sk-text-repr-fallback {display: none;}</style><div id=\"sk-container-id-4\" class=\"sk-top-container\"><div class=\"sk-text-repr-fallback\"><pre>DecisionTreeClassifier(max_depth=8, min_samples_leaf=100)</pre><b>In a Jupyter environment, please rerun this cell to show the HTML representation or trust the notebook. <br />On GitHub, the HTML representation is unable to render, please try loading this page with nbviewer.org.</b></div><div class=\"sk-container\" hidden><div class=\"sk-item\"><div class=\"sk-estimator sk-toggleable\"><input class=\"sk-toggleable__control sk-hidden--visually\" id=\"sk-estimator-id-4\" type=\"checkbox\" checked><label for=\"sk-estimator-id-4\" class=\"sk-toggleable__label sk-toggleable__label-arrow\">DecisionTreeClassifier</label><div class=\"sk-toggleable__content\"><pre>DecisionTreeClassifier(max_depth=8, min_samples_leaf=100)</pre></div></div></div></div></div>"
      ],
      "text/plain": [
       "DecisionTreeClassifier(max_depth=8, min_samples_leaf=100)"
      ]
     },
     "execution_count": 80,
     "metadata": {},
     "output_type": "execute_result"
    }
   ],
   "source": [
    "dt = DecisionTreeClassifier(max_depth=8, min_samples_leaf=100)\n",
    "dt.fit(X_train, y_train)"
   ]
  },
  {
   "cell_type": "code",
   "execution_count": 81,
   "id": "b4b6c8e1-526b-48f7-9fc4-070c676de4ed",
   "metadata": {},
   "outputs": [
    {
     "name": "stdout",
     "output_type": "stream",
     "text": [
      "|--- credit_product=Unknown <= 0.50\n",
      "|   |--- credit_product=Yes <= 0.50\n",
      "|   |   |--- vintage <= 65.00\n",
      "|   |   |   |--- channel_code=X1 <= 0.50\n",
      "|   |   |   |   |--- occupation=Salaried <= 0.50\n",
      "|   |   |   |   |   |--- vintage <= 29.00\n",
      "|   |   |   |   |   |   |--- age <= 37.50\n",
      "|   |   |   |   |   |   |   |--- vintage <= 20.50\n",
      "|   |   |   |   |   |   |   |   |--- class: 0\n",
      "|   |   |   |   |   |   |   |--- vintage >  20.50\n",
      "|   |   |   |   |   |   |   |   |--- class: 0\n",
      "|   |   |   |   |   |   |--- age >  37.50\n",
      "|   |   |   |   |   |   |   |--- is_active=Yes <= 0.50\n",
      "|   |   |   |   |   |   |   |   |--- class: 0\n",
      "|   |   |   |   |   |   |   |--- is_active=Yes >  0.50\n",
      "|   |   |   |   |   |   |   |   |--- class: 0\n",
      "|   |   |   |   |   |--- vintage >  29.00\n",
      "|   |   |   |   |   |   |--- vintage <= 55.50\n",
      "|   |   |   |   |   |   |   |--- region_code=RG251 <= 0.50\n",
      "|   |   |   |   |   |   |   |   |--- class: 0\n",
      "|   |   |   |   |   |   |   |--- region_code=RG251 >  0.50\n",
      "|   |   |   |   |   |   |   |   |--- class: 0\n",
      "|   |   |   |   |   |   |--- vintage >  55.50\n",
      "|   |   |   |   |   |   |   |--- avg_account_balance <= 14.52\n",
      "|   |   |   |   |   |   |   |   |--- class: 0\n",
      "|   |   |   |   |   |   |   |--- avg_account_balance >  14.52\n",
      "|   |   |   |   |   |   |   |   |--- class: 0\n",
      "|   |   |   |   |--- occupation=Salaried >  0.50\n",
      "|   |   |   |   |   |--- age <= 39.50\n",
      "|   |   |   |   |   |   |--- age <= 32.50\n",
      "|   |   |   |   |   |   |   |--- avg_account_balance <= 13.02\n",
      "|   |   |   |   |   |   |   |   |--- class: 0\n",
      "|   |   |   |   |   |   |   |--- avg_account_balance >  13.02\n",
      "|   |   |   |   |   |   |   |   |--- class: 0\n",
      "|   |   |   |   |   |   |--- age >  32.50\n",
      "|   |   |   |   |   |   |   |--- class: 0\n",
      "|   |   |   |   |   |--- age >  39.50\n",
      "|   |   |   |   |   |   |--- class: 1\n",
      "|   |   |   |--- channel_code=X1 >  0.50\n",
      "|   |   |   |   |--- occupation=Other <= 0.50\n",
      "|   |   |   |   |   |--- occupation=Salaried <= 0.50\n",
      "|   |   |   |   |   |   |--- vintage <= 38.50\n",
      "|   |   |   |   |   |   |   |--- region_code=RG284 <= 0.50\n",
      "|   |   |   |   |   |   |   |   |--- class: 0\n",
      "|   |   |   |   |   |   |   |--- region_code=RG284 >  0.50\n",
      "|   |   |   |   |   |   |   |   |--- class: 0\n",
      "|   |   |   |   |   |   |--- vintage >  38.50\n",
      "|   |   |   |   |   |   |   |--- avg_account_balance <= 14.43\n",
      "|   |   |   |   |   |   |   |   |--- class: 0\n",
      "|   |   |   |   |   |   |   |--- avg_account_balance >  14.43\n",
      "|   |   |   |   |   |   |   |   |--- class: 0\n",
      "|   |   |   |   |   |--- occupation=Salaried >  0.50\n",
      "|   |   |   |   |   |   |--- age <= 38.50\n",
      "|   |   |   |   |   |   |   |--- age <= 32.50\n",
      "|   |   |   |   |   |   |   |   |--- class: 0\n",
      "|   |   |   |   |   |   |   |--- age >  32.50\n",
      "|   |   |   |   |   |   |   |   |--- class: 0\n",
      "|   |   |   |   |   |   |--- age >  38.50\n",
      "|   |   |   |   |   |   |   |--- class: 0\n",
      "|   |   |   |   |--- occupation=Other >  0.50\n",
      "|   |   |   |   |   |--- age <= 36.50\n",
      "|   |   |   |   |   |   |--- region_code=RG266 <= 0.50\n",
      "|   |   |   |   |   |   |   |--- avg_account_balance <= 13.81\n",
      "|   |   |   |   |   |   |   |   |--- class: 0\n",
      "|   |   |   |   |   |   |   |--- avg_account_balance >  13.81\n",
      "|   |   |   |   |   |   |   |   |--- class: 0\n",
      "|   |   |   |   |   |   |--- region_code=RG266 >  0.50\n",
      "|   |   |   |   |   |   |   |--- class: 0\n",
      "|   |   |   |   |   |--- age >  36.50\n",
      "|   |   |   |   |   |   |--- vintage <= 14.50\n",
      "|   |   |   |   |   |   |   |--- class: 0\n",
      "|   |   |   |   |   |   |--- vintage >  14.50\n",
      "|   |   |   |   |   |   |   |--- avg_account_balance <= 13.76\n",
      "|   |   |   |   |   |   |   |   |--- class: 0\n",
      "|   |   |   |   |   |   |   |--- avg_account_balance >  13.76\n",
      "|   |   |   |   |   |   |   |   |--- class: 0\n",
      "|   |   |--- vintage >  65.00\n",
      "|   |   |   |--- occupation=Salaried <= 0.50\n",
      "|   |   |   |   |--- vintage <= 101.00\n",
      "|   |   |   |   |   |--- vintage <= 83.00\n",
      "|   |   |   |   |   |   |--- age <= 74.50\n",
      "|   |   |   |   |   |   |   |--- vintage <= 77.00\n",
      "|   |   |   |   |   |   |   |   |--- class: 0\n",
      "|   |   |   |   |   |   |   |--- vintage >  77.00\n",
      "|   |   |   |   |   |   |   |   |--- class: 0\n",
      "|   |   |   |   |   |   |--- age >  74.50\n",
      "|   |   |   |   |   |   |   |--- avg_account_balance <= 13.28\n",
      "|   |   |   |   |   |   |   |   |--- class: 0\n",
      "|   |   |   |   |   |   |   |--- avg_account_balance >  13.28\n",
      "|   |   |   |   |   |   |   |   |--- class: 0\n",
      "|   |   |   |   |   |--- vintage >  83.00\n",
      "|   |   |   |   |   |   |--- is_active=No <= 0.50\n",
      "|   |   |   |   |   |   |   |--- vintage <= 95.00\n",
      "|   |   |   |   |   |   |   |   |--- class: 0\n",
      "|   |   |   |   |   |   |   |--- vintage >  95.00\n",
      "|   |   |   |   |   |   |   |   |--- class: 0\n",
      "|   |   |   |   |   |   |--- is_active=No >  0.50\n",
      "|   |   |   |   |   |   |   |--- region_code=RG284 <= 0.50\n",
      "|   |   |   |   |   |   |   |   |--- class: 0\n",
      "|   |   |   |   |   |   |   |--- region_code=RG284 >  0.50\n",
      "|   |   |   |   |   |   |   |   |--- class: 0\n",
      "|   |   |   |   |--- vintage >  101.00\n",
      "|   |   |   |   |   |--- age <= 81.50\n",
      "|   |   |   |   |   |   |--- is_active=No <= 0.50\n",
      "|   |   |   |   |   |   |   |--- age <= 59.50\n",
      "|   |   |   |   |   |   |   |   |--- class: 0\n",
      "|   |   |   |   |   |   |   |--- age >  59.50\n",
      "|   |   |   |   |   |   |   |   |--- class: 0\n",
      "|   |   |   |   |   |   |--- is_active=No >  0.50\n",
      "|   |   |   |   |   |   |   |--- avg_account_balance <= 14.75\n",
      "|   |   |   |   |   |   |   |   |--- class: 0\n",
      "|   |   |   |   |   |   |   |--- avg_account_balance >  14.75\n",
      "|   |   |   |   |   |   |   |   |--- class: 0\n",
      "|   |   |   |   |   |--- age >  81.50\n",
      "|   |   |   |   |   |   |--- class: 0\n",
      "|   |   |   |--- occupation=Salaried >  0.50\n",
      "|   |   |   |   |--- age <= 48.50\n",
      "|   |   |   |   |   |--- class: 1\n",
      "|   |   |   |   |--- age >  48.50\n",
      "|   |   |   |   |   |--- class: 1\n",
      "|   |--- credit_product=Yes >  0.50\n",
      "|   |   |--- vintage <= 65.00\n",
      "|   |   |   |--- is_active=No <= 0.50\n",
      "|   |   |   |   |--- age <= 31.50\n",
      "|   |   |   |   |   |--- channel_code=X1 <= 0.50\n",
      "|   |   |   |   |   |   |--- avg_account_balance <= 13.72\n",
      "|   |   |   |   |   |   |   |--- class: 0\n",
      "|   |   |   |   |   |   |--- avg_account_balance >  13.72\n",
      "|   |   |   |   |   |   |   |--- class: 0\n",
      "|   |   |   |   |   |--- channel_code=X1 >  0.50\n",
      "|   |   |   |   |   |   |--- age <= 27.50\n",
      "|   |   |   |   |   |   |   |--- avg_account_balance <= 13.70\n",
      "|   |   |   |   |   |   |   |   |--- class: 0\n",
      "|   |   |   |   |   |   |   |--- avg_account_balance >  13.70\n",
      "|   |   |   |   |   |   |   |   |--- class: 0\n",
      "|   |   |   |   |   |   |--- age >  27.50\n",
      "|   |   |   |   |   |   |   |--- avg_account_balance <= 13.54\n",
      "|   |   |   |   |   |   |   |   |--- class: 0\n",
      "|   |   |   |   |   |   |   |--- avg_account_balance >  13.54\n",
      "|   |   |   |   |   |   |   |   |--- class: 0\n",
      "|   |   |   |   |--- age >  31.50\n",
      "|   |   |   |   |   |--- occupation=Salaried <= 0.50\n",
      "|   |   |   |   |   |   |--- age <= 54.50\n",
      "|   |   |   |   |   |   |   |--- avg_account_balance <= 13.69\n",
      "|   |   |   |   |   |   |   |   |--- class: 0\n",
      "|   |   |   |   |   |   |   |--- avg_account_balance >  13.69\n",
      "|   |   |   |   |   |   |   |   |--- class: 0\n",
      "|   |   |   |   |   |   |--- age >  54.50\n",
      "|   |   |   |   |   |   |   |--- vintage <= 32.50\n",
      "|   |   |   |   |   |   |   |   |--- class: 0\n",
      "|   |   |   |   |   |   |   |--- vintage >  32.50\n",
      "|   |   |   |   |   |   |   |   |--- class: 0\n",
      "|   |   |   |   |   |--- occupation=Salaried >  0.50\n",
      "|   |   |   |   |   |   |--- age <= 39.50\n",
      "|   |   |   |   |   |   |   |--- channel_code=X1 <= 0.50\n",
      "|   |   |   |   |   |   |   |   |--- class: 1\n",
      "|   |   |   |   |   |   |   |--- channel_code=X1 >  0.50\n",
      "|   |   |   |   |   |   |   |   |--- class: 0\n",
      "|   |   |   |   |   |   |--- age >  39.50\n",
      "|   |   |   |   |   |   |   |--- class: 1\n",
      "|   |   |   |--- is_active=No >  0.50\n",
      "|   |   |   |   |--- age <= 33.50\n",
      "|   |   |   |   |   |--- occupation=Other <= 0.50\n",
      "|   |   |   |   |   |   |--- channel_code=X1 <= 0.50\n",
      "|   |   |   |   |   |   |   |--- vintage <= 20.50\n",
      "|   |   |   |   |   |   |   |   |--- class: 0\n",
      "|   |   |   |   |   |   |   |--- vintage >  20.50\n",
      "|   |   |   |   |   |   |   |   |--- class: 0\n",
      "|   |   |   |   |   |   |--- channel_code=X1 >  0.50\n",
      "|   |   |   |   |   |   |   |--- age <= 28.50\n",
      "|   |   |   |   |   |   |   |   |--- class: 0\n",
      "|   |   |   |   |   |   |   |--- age >  28.50\n",
      "|   |   |   |   |   |   |   |   |--- class: 0\n",
      "|   |   |   |   |   |--- occupation=Other >  0.50\n",
      "|   |   |   |   |   |   |--- channel_code=X1 <= 0.50\n",
      "|   |   |   |   |   |   |   |--- avg_account_balance <= 13.65\n",
      "|   |   |   |   |   |   |   |   |--- class: 0\n",
      "|   |   |   |   |   |   |   |--- avg_account_balance >  13.65\n",
      "|   |   |   |   |   |   |   |   |--- class: 0\n",
      "|   |   |   |   |   |   |--- channel_code=X1 >  0.50\n",
      "|   |   |   |   |   |   |   |--- age <= 30.50\n",
      "|   |   |   |   |   |   |   |   |--- class: 0\n",
      "|   |   |   |   |   |   |   |--- age >  30.50\n",
      "|   |   |   |   |   |   |   |   |--- class: 0\n",
      "|   |   |   |   |--- age >  33.50\n",
      "|   |   |   |   |   |--- occupation=Salaried <= 0.50\n",
      "|   |   |   |   |   |   |--- vintage <= 35.00\n",
      "|   |   |   |   |   |   |   |--- channel_code=X1 <= 0.50\n",
      "|   |   |   |   |   |   |   |   |--- class: 0\n",
      "|   |   |   |   |   |   |   |--- channel_code=X1 >  0.50\n",
      "|   |   |   |   |   |   |   |   |--- class: 0\n",
      "|   |   |   |   |   |   |--- vintage >  35.00\n",
      "|   |   |   |   |   |   |   |--- vintage <= 59.00\n",
      "|   |   |   |   |   |   |   |   |--- class: 0\n",
      "|   |   |   |   |   |   |   |--- vintage >  59.00\n",
      "|   |   |   |   |   |   |   |   |--- class: 0\n",
      "|   |   |   |   |   |--- occupation=Salaried >  0.50\n",
      "|   |   |   |   |   |   |--- age <= 39.50\n",
      "|   |   |   |   |   |   |   |--- channel_code=X1 <= 0.50\n",
      "|   |   |   |   |   |   |   |   |--- class: 0\n",
      "|   |   |   |   |   |   |   |--- channel_code=X1 >  0.50\n",
      "|   |   |   |   |   |   |   |   |--- class: 0\n",
      "|   |   |   |   |   |   |--- age >  39.50\n",
      "|   |   |   |   |   |   |   |--- class: 1\n",
      "|   |   |--- vintage >  65.00\n",
      "|   |   |   |--- occupation=Salaried <= 0.50\n",
      "|   |   |   |   |--- occupation=Entrepreneur <= 0.50\n",
      "|   |   |   |   |   |--- is_active=Yes <= 0.50\n",
      "|   |   |   |   |   |   |--- vintage <= 71.00\n",
      "|   |   |   |   |   |   |   |--- age <= 48.50\n",
      "|   |   |   |   |   |   |   |   |--- class: 0\n",
      "|   |   |   |   |   |   |   |--- age >  48.50\n",
      "|   |   |   |   |   |   |   |   |--- class: 0\n",
      "|   |   |   |   |   |   |--- vintage >  71.00\n",
      "|   |   |   |   |   |   |   |--- vintage <= 104.50\n",
      "|   |   |   |   |   |   |   |   |--- class: 0\n",
      "|   |   |   |   |   |   |   |--- vintage >  104.50\n",
      "|   |   |   |   |   |   |   |   |--- class: 0\n",
      "|   |   |   |   |   |--- is_active=Yes >  0.50\n",
      "|   |   |   |   |   |   |--- age <= 62.50\n",
      "|   |   |   |   |   |   |   |--- occupation=Self_Employed <= 0.50\n",
      "|   |   |   |   |   |   |   |   |--- class: 1\n",
      "|   |   |   |   |   |   |   |--- occupation=Self_Employed >  0.50\n",
      "|   |   |   |   |   |   |   |   |--- class: 0\n",
      "|   |   |   |   |   |   |--- age >  62.50\n",
      "|   |   |   |   |   |   |   |--- gender=Male <= 0.50\n",
      "|   |   |   |   |   |   |   |   |--- class: 0\n",
      "|   |   |   |   |   |   |   |--- gender=Male >  0.50\n",
      "|   |   |   |   |   |   |   |   |--- class: 0\n",
      "|   |   |   |   |--- occupation=Entrepreneur >  0.50\n",
      "|   |   |   |   |   |--- channel_code=X2 <= 0.50\n",
      "|   |   |   |   |   |   |--- vintage <= 92.50\n",
      "|   |   |   |   |   |   |   |--- class: 1\n",
      "|   |   |   |   |   |   |--- vintage >  92.50\n",
      "|   |   |   |   |   |   |   |--- avg_account_balance <= 14.20\n",
      "|   |   |   |   |   |   |   |   |--- class: 1\n",
      "|   |   |   |   |   |   |   |--- avg_account_balance >  14.20\n",
      "|   |   |   |   |   |   |   |   |--- class: 1\n",
      "|   |   |   |   |   |--- channel_code=X2 >  0.50\n",
      "|   |   |   |   |   |   |--- class: 1\n",
      "|   |   |   |--- occupation=Salaried >  0.50\n",
      "|   |   |   |   |--- age <= 42.50\n",
      "|   |   |   |   |   |--- class: 1\n",
      "|   |   |   |   |--- age >  42.50\n",
      "|   |   |   |   |   |--- channel_code=X2 <= 0.50\n",
      "|   |   |   |   |   |   |--- vintage <= 113.00\n",
      "|   |   |   |   |   |   |   |--- class: 1\n",
      "|   |   |   |   |   |   |--- vintage >  113.00\n",
      "|   |   |   |   |   |   |   |--- class: 1\n",
      "|   |   |   |   |   |--- channel_code=X2 >  0.50\n",
      "|   |   |   |   |   |   |--- vintage <= 89.00\n",
      "|   |   |   |   |   |   |   |--- class: 1\n",
      "|   |   |   |   |   |   |--- vintage >  89.00\n",
      "|   |   |   |   |   |   |   |--- class: 1\n",
      "|--- credit_product=Unknown >  0.50\n",
      "|   |--- occupation=Salaried <= 0.50\n",
      "|   |   |--- age <= 60.50\n",
      "|   |   |   |--- occupation=Self_Employed <= 0.50\n",
      "|   |   |   |   |--- channel_code=X1 <= 0.50\n",
      "|   |   |   |   |   |--- region_code=RG254 <= 0.50\n",
      "|   |   |   |   |   |   |--- avg_account_balance <= 13.63\n",
      "|   |   |   |   |   |   |   |--- avg_account_balance <= 13.47\n",
      "|   |   |   |   |   |   |   |   |--- class: 1\n",
      "|   |   |   |   |   |   |   |--- avg_account_balance >  13.47\n",
      "|   |   |   |   |   |   |   |   |--- class: 1\n",
      "|   |   |   |   |   |   |--- avg_account_balance >  13.63\n",
      "|   |   |   |   |   |   |   |--- avg_account_balance <= 14.43\n",
      "|   |   |   |   |   |   |   |   |--- class: 1\n",
      "|   |   |   |   |   |   |   |--- avg_account_balance >  14.43\n",
      "|   |   |   |   |   |   |   |   |--- class: 1\n",
      "|   |   |   |   |   |--- region_code=RG254 >  0.50\n",
      "|   |   |   |   |   |   |--- channel_code=X2 <= 0.50\n",
      "|   |   |   |   |   |   |   |--- class: 1\n",
      "|   |   |   |   |   |   |--- channel_code=X2 >  0.50\n",
      "|   |   |   |   |   |   |   |--- class: 1\n",
      "|   |   |   |   |--- channel_code=X1 >  0.50\n",
      "|   |   |   |   |   |--- avg_account_balance <= 13.83\n",
      "|   |   |   |   |   |   |--- class: 1\n",
      "|   |   |   |   |   |--- avg_account_balance >  13.83\n",
      "|   |   |   |   |   |   |--- class: 1\n",
      "|   |   |   |--- occupation=Self_Employed >  0.50\n",
      "|   |   |   |   |--- vintage <= 103.50\n",
      "|   |   |   |   |   |--- region_code=RG263 <= 0.50\n",
      "|   |   |   |   |   |   |--- region_code=RG261 <= 0.50\n",
      "|   |   |   |   |   |   |   |--- vintage <= 14.50\n",
      "|   |   |   |   |   |   |   |   |--- class: 1\n",
      "|   |   |   |   |   |   |   |--- vintage >  14.50\n",
      "|   |   |   |   |   |   |   |   |--- class: 1\n",
      "|   |   |   |   |   |   |--- region_code=RG261 >  0.50\n",
      "|   |   |   |   |   |   |   |--- class: 1\n",
      "|   |   |   |   |   |--- region_code=RG263 >  0.50\n",
      "|   |   |   |   |   |   |--- class: 1\n",
      "|   |   |   |   |--- vintage >  103.50\n",
      "|   |   |   |   |   |--- avg_account_balance <= 13.50\n",
      "|   |   |   |   |   |   |--- class: 1\n",
      "|   |   |   |   |   |--- avg_account_balance >  13.50\n",
      "|   |   |   |   |   |   |--- age <= 52.50\n",
      "|   |   |   |   |   |   |   |--- avg_account_balance <= 14.37\n",
      "|   |   |   |   |   |   |   |   |--- class: 1\n",
      "|   |   |   |   |   |   |   |--- avg_account_balance >  14.37\n",
      "|   |   |   |   |   |   |   |   |--- class: 1\n",
      "|   |   |   |   |   |   |--- age >  52.50\n",
      "|   |   |   |   |   |   |   |--- vintage <= 109.50\n",
      "|   |   |   |   |   |   |   |   |--- class: 1\n",
      "|   |   |   |   |   |   |   |--- vintage >  109.50\n",
      "|   |   |   |   |   |   |   |   |--- class: 1\n",
      "|   |   |--- age >  60.50\n",
      "|   |   |   |--- avg_account_balance <= 13.28\n",
      "|   |   |   |   |--- vintage <= 67.50\n",
      "|   |   |   |   |   |--- class: 1\n",
      "|   |   |   |   |--- vintage >  67.50\n",
      "|   |   |   |   |   |--- age <= 65.50\n",
      "|   |   |   |   |   |   |--- class: 1\n",
      "|   |   |   |   |   |--- age >  65.50\n",
      "|   |   |   |   |   |   |--- avg_account_balance <= 13.06\n",
      "|   |   |   |   |   |   |   |--- class: 1\n",
      "|   |   |   |   |   |   |--- avg_account_balance >  13.06\n",
      "|   |   |   |   |   |   |   |--- class: 1\n",
      "|   |   |   |--- avg_account_balance >  13.28\n",
      "|   |   |   |   |--- age <= 79.50\n",
      "|   |   |   |   |   |--- avg_account_balance <= 13.38\n",
      "|   |   |   |   |   |   |--- class: 1\n",
      "|   |   |   |   |   |--- avg_account_balance >  13.38\n",
      "|   |   |   |   |   |   |--- gender=Female <= 0.50\n",
      "|   |   |   |   |   |   |   |--- region_code=RG254 <= 0.50\n",
      "|   |   |   |   |   |   |   |   |--- class: 1\n",
      "|   |   |   |   |   |   |   |--- region_code=RG254 >  0.50\n",
      "|   |   |   |   |   |   |   |   |--- class: 1\n",
      "|   |   |   |   |   |   |--- gender=Female >  0.50\n",
      "|   |   |   |   |   |   |   |--- vintage <= 95.00\n",
      "|   |   |   |   |   |   |   |   |--- class: 1\n",
      "|   |   |   |   |   |   |   |--- vintage >  95.00\n",
      "|   |   |   |   |   |   |   |   |--- class: 1\n",
      "|   |   |   |   |--- age >  79.50\n",
      "|   |   |   |   |   |--- is_active=Yes <= 0.50\n",
      "|   |   |   |   |   |   |--- age <= 82.50\n",
      "|   |   |   |   |   |   |   |--- class: 1\n",
      "|   |   |   |   |   |   |--- age >  82.50\n",
      "|   |   |   |   |   |   |   |--- class: 1\n",
      "|   |   |   |   |   |--- is_active=Yes >  0.50\n",
      "|   |   |   |   |   |   |--- class: 1\n",
      "|   |--- occupation=Salaried >  0.50\n",
      "|   |   |--- age <= 39.50\n",
      "|   |   |   |--- region_code=RG283 <= 0.50\n",
      "|   |   |   |   |--- avg_account_balance <= 13.96\n",
      "|   |   |   |   |   |--- vintage <= 31.50\n",
      "|   |   |   |   |   |   |--- avg_account_balance <= 13.55\n",
      "|   |   |   |   |   |   |   |--- vintage <= 25.50\n",
      "|   |   |   |   |   |   |   |   |--- class: 1\n",
      "|   |   |   |   |   |   |   |--- vintage >  25.50\n",
      "|   |   |   |   |   |   |   |   |--- class: 1\n",
      "|   |   |   |   |   |   |--- avg_account_balance >  13.55\n",
      "|   |   |   |   |   |   |   |--- avg_account_balance <= 13.72\n",
      "|   |   |   |   |   |   |   |   |--- class: 1\n",
      "|   |   |   |   |   |   |   |--- avg_account_balance >  13.72\n",
      "|   |   |   |   |   |   |   |   |--- class: 1\n",
      "|   |   |   |   |   |--- vintage >  31.50\n",
      "|   |   |   |   |   |   |--- class: 1\n",
      "|   |   |   |   |--- avg_account_balance >  13.96\n",
      "|   |   |   |   |   |--- avg_account_balance <= 14.42\n",
      "|   |   |   |   |   |   |--- class: 1\n",
      "|   |   |   |   |   |--- avg_account_balance >  14.42\n",
      "|   |   |   |   |   |   |--- class: 1\n",
      "|   |   |   |--- region_code=RG283 >  0.50\n",
      "|   |   |   |   |--- class: 1\n",
      "|   |   |--- age >  39.50\n",
      "|   |   |   |--- vintage <= 67.50\n",
      "|   |   |   |   |--- is_active=Yes <= 0.50\n",
      "|   |   |   |   |   |--- class: 1\n",
      "|   |   |   |   |--- is_active=Yes >  0.50\n",
      "|   |   |   |   |   |--- class: 1\n",
      "|   |   |   |--- vintage >  67.50\n",
      "|   |   |   |   |--- age <= 54.50\n",
      "|   |   |   |   |   |--- class: 1\n",
      "|   |   |   |   |--- age >  54.50\n",
      "|   |   |   |   |   |--- age <= 58.50\n",
      "|   |   |   |   |   |   |--- class: 1\n",
      "|   |   |   |   |   |--- age >  58.50\n",
      "|   |   |   |   |   |   |--- class: 1\n",
      "\n"
     ]
    }
   ],
   "source": [
    "print(export_text(dt, feature_names=list(dv.get_feature_names_out())))"
   ]
  },
  {
   "cell_type": "markdown",
   "id": "3399c6cc-4724-46cf-ac7d-89a819067c6b",
   "metadata": {},
   "source": [
    "The decision tree is looking for customers who DON'T already have a credit product, a vintage less than or equal to 29 (months), a channel_code not equal to X1 (translates to a certain channel but we don't know the translation), occupation not equal to Salaried, age less than or equal to 37.5 (years), and so on...  "
   ]
  },
  {
   "cell_type": "markdown",
   "id": "a747e082-4fad-4539-87e3-41b606f73af8",
   "metadata": {},
   "source": [
    "The decision tree model has an auc of 0.871 which is greater than our Logistic Regression Model's auc of 0.856"
   ]
  },
  {
   "cell_type": "markdown",
   "id": "f5ea33fc-f0e9-4c05-91a3-ac979cc59616",
   "metadata": {},
   "source": [
    "## Ensembles and Random Forest"
   ]
  },
  {
   "cell_type": "code",
   "execution_count": 82,
   "id": "3c40cae1-627b-4d4b-9e06-8f2305b2dfc1",
   "metadata": {},
   "outputs": [],
   "source": [
    "from sklearn.ensemble import RandomForestClassifier"
   ]
  },
  {
   "cell_type": "code",
   "execution_count": 83,
   "id": "23e09f6f-6145-4790-93e3-8c9e6606e407",
   "metadata": {},
   "outputs": [],
   "source": [
    "scores = []\n",
    "\n",
    "for d in [5, 10, 15, 20]:\n",
    "    for n in range(10, 201, 10):\n",
    "        rf = RandomForestClassifier(n_estimators=n,\n",
    "                                    max_depth=d,\n",
    "                                    random_state=1)\n",
    "        rf.fit(X_train, y_train)\n",
    "\n",
    "        y_pred = rf.predict_proba(X_val)[:, 1]\n",
    "        auc = roc_auc_score(y_val, y_pred)\n",
    "\n",
    "        scores.append((d, n, auc))"
   ]
  },
  {
   "cell_type": "code",
   "execution_count": 84,
   "id": "f4d4db86-1295-4b70-9eb9-0b49af2bf3d5",
   "metadata": {},
   "outputs": [],
   "source": [
    "columns = ['max_depth', 'n_estimators', 'auc']\n",
    "df_scores = pd.DataFrame(scores, columns=columns)"
   ]
  },
  {
   "cell_type": "code",
   "execution_count": 85,
   "id": "b0ba5a39-783a-4aeb-b78a-c67447401536",
   "metadata": {},
   "outputs": [
    {
     "data": {
      "image/png": "[encoded data removed]",
      "text/plain": [
       "<Figure size 900x500 with 1 Axes>"
      ]
     },
     "metadata": {
      "needs_background": "light"
     },
     "output_type": "display_data"
    }
   ],
   "source": [
    "ax = sns.lineplot(x='n_estimators', y='auc', data=df_scores, hue = 'max_depth', errorbar=None);\n",
    "ax.set(xlabel='Num Estimators', ylabel='AUC', title='AUC by Number of Estimators and Max Depth')\n",
    "plt.legend(loc='lower left', bbox_to_anchor=(1, 0), title='Max Depth')\n",
    "plt.show()"
   ]
  },
  {
   "cell_type": "markdown",
   "id": "3950740a-99c2-47eb-a692-1e56c2e8a6ec",
   "metadata": {},
   "source": [
    "Max Depth of 15 is the best."
   ]
  },
  {
   "cell_type": "code",
   "execution_count": 86,
   "id": "d055088f-c79b-4536-8307-2d936def89a3",
   "metadata": {},
   "outputs": [],
   "source": [
    "max_depth = 15"
   ]
  },
  {
   "cell_type": "code",
   "execution_count": 87,
   "id": "a6a65495-a2cc-466a-9805-87e94e00d66f",
   "metadata": {},
   "outputs": [],
   "source": [
    "scores = []\n",
    "\n",
    "for s in [1, 3, 5, 10, 50]:\n",
    "    for n in range(10, 201, 10):\n",
    "        rf = RandomForestClassifier(n_estimators=n,\n",
    "                                    max_depth=max_depth,\n",
    "                                    min_samples_leaf=s,\n",
    "                                    random_state=1)\n",
    "        rf.fit(X_train, y_train)\n",
    "\n",
    "        y_pred = rf.predict_proba(X_val)[:, 1]\n",
    "        auc = roc_auc_score(y_val, y_pred)\n",
    "\n",
    "        scores.append((s, n, auc))"
   ]
  },
  {
   "cell_type": "code",
   "execution_count": 88,
   "id": "b319bd1b-8167-435a-813b-7b9173240649",
   "metadata": {},
   "outputs": [],
   "source": [
    "columns = ['min_samples_leaf', 'n_estimators', 'auc']\n",
    "df_scores = pd.DataFrame(scores, columns=columns)"
   ]
  },
  {
   "cell_type": "code",
   "execution_count": 89,
   "id": "33c0d695-cc70-43df-b21a-a6ce641c5ea4",
   "metadata": {},
   "outputs": [
    {
     "data": {
      "image/png": "[encoded data removed]",
      "text/plain": [
       "<Figure size 900x500 with 1 Axes>"
      ]
     },
     "metadata": {
      "needs_background": "light"
     },
     "output_type": "display_data"
    }
   ],
   "source": [
    "ax = sns.lineplot(x='n_estimators', y='auc', data=df_scores, hue = 'min_samples_leaf', errorbar=None, palette='tab10');\n",
    "ax.set(xlabel='Num Estimators', ylabel='AUC', title='AUC by Number of Estimators and Max Depth')\n",
    "plt.legend(loc='lower left', bbox_to_anchor=(1, 0), title='Min Samples Leaf')\n",
    "plt.show()"
   ]
  },
  {
   "cell_type": "markdown",
   "id": "5366bf7c-00ea-41a5-a84e-ae57f5b4ded9",
   "metadata": {},
   "source": [
    "We set the min samples leaf to 5 (green line in the graph above) because its AUC improves quickly and then it stays better than the others consistently without much up and down (unline the min samples leaf of 10, the red line).\n",
    "We will set the number of estimators to 75 to keep the model as simple as possible.  We'd have to jump up to 130 to get a small increase in AUC."
   ]
  },
  {
   "cell_type": "code",
   "execution_count": 90,
   "id": "f9415c9c-66dd-45f7-936e-9ca701d79489",
   "metadata": {},
   "outputs": [],
   "source": [
    "min_samples_leaf = 5\n",
    "n_estimators = 75"
   ]
  },
  {
   "cell_type": "code",
   "execution_count": 91,
   "id": "73220b10-f5d4-4b3d-aa8a-45f1842fdb04",
   "metadata": {},
   "outputs": [
    {
     "data": {
      "text/html": [
       "<style>#sk-container-id-5 {color: black;}#sk-container-id-5 pre{padding: 0;}#sk-container-id-5 div.sk-toggleable {background-color: white;}#sk-container-id-5 label.sk-toggleable__label {cursor: pointer;display: block;width: 100%;margin-bottom: 0;padding: 0.3em;box-sizing: border-box;text-align: center;}#sk-container-id-5 label.sk-toggleable__label-arrow:before {content: \"▸\";float: left;margin-right: 0.25em;color: #696969;}#sk-container-id-5 label.sk-toggleable__label-arrow:hover:before {color: black;}#sk-container-id-5 div.sk-estimator:hover label.sk-toggleable__label-arrow:before {color: black;}#sk-container-id-5 div.sk-toggleable__content {max-height: 0;max-width: 0;overflow: hidden;text-align: left;background-color: #f0f8ff;}#sk-container-id-5 div.sk-toggleable__content pre {margin: 0.2em;color: black;border-radius: 0.25em;background-color: #f0f8ff;}#sk-container-id-5 input.sk-toggleable__control:checked~div.sk-toggleable__content {max-height: 200px;max-width: 100%;overflow: auto;}#sk-container-id-5 input.sk-toggleable__control:checked~label.sk-toggleable__label-arrow:before {content: \"▾\";}#sk-container-id-5 div.sk-estimator input.sk-toggleable__control:checked~label.sk-toggleable__label {background-color: #d4ebff;}#sk-container-id-5 div.sk-label input.sk-toggleable__control:checked~label.sk-toggleable__label {background-color: #d4ebff;}#sk-container-id-5 input.sk-hidden--visually {border: 0;clip: rect(1px 1px 1px 1px);clip: rect(1px, 1px, 1px, 1px);height: 1px;margin: -1px;overflow: hidden;padding: 0;position: absolute;width: 1px;}#sk-container-id-5 div.sk-estimator {font-family: monospace;background-color: #f0f8ff;border: 1px dotted black;border-radius: 0.25em;box-sizing: border-box;margin-bottom: 0.5em;}#sk-container-id-5 div.sk-estimator:hover {background-color: #d4ebff;}#sk-container-id-5 div.sk-parallel-item::after {content: \"\";width: 100%;border-bottom: 1px solid gray;flex-grow: 1;}#sk-container-id-5 div.sk-label:hover label.sk-toggleable__label {background-color: #d4ebff;}#sk-container-id-5 div.sk-serial::before {content: \"\";position: absolute;border-left: 1px solid gray;box-sizing: border-box;top: 0;bottom: 0;left: 50%;z-index: 0;}#sk-container-id-5 div.sk-serial {display: flex;flex-direction: column;align-items: center;background-color: white;padding-right: 0.2em;padding-left: 0.2em;position: relative;}#sk-container-id-5 div.sk-item {position: relative;z-index: 1;}#sk-container-id-5 div.sk-parallel {display: flex;align-items: stretch;justify-content: center;background-color: white;position: relative;}#sk-container-id-5 div.sk-item::before, #sk-container-id-5 div.sk-parallel-item::before {content: \"\";position: absolute;border-left: 1px solid gray;box-sizing: border-box;top: 0;bottom: 0;left: 50%;z-index: -1;}#sk-container-id-5 div.sk-parallel-item {display: flex;flex-direction: column;z-index: 1;position: relative;background-color: white;}#sk-container-id-5 div.sk-parallel-item:first-child::after {align-self: flex-end;width: 50%;}#sk-container-id-5 div.sk-parallel-item:last-child::after {align-self: flex-start;width: 50%;}#sk-container-id-5 div.sk-parallel-item:only-child::after {width: 0;}#sk-container-id-5 div.sk-dashed-wrapped {border: 1px dashed gray;margin: 0 0.4em 0.5em 0.4em;box-sizing: border-box;padding-bottom: 0.4em;background-color: white;}#sk-container-id-5 div.sk-label label {font-family: monospace;font-weight: bold;display: inline-block;line-height: 1.2em;}#sk-container-id-5 div.sk-label-container {text-align: center;}#sk-container-id-5 div.sk-container {/* jupyter's `normalize.less` sets `[hidden] { display: none; }` but bootstrap.min.css set `[hidden] { display: none !important; }` so we also need the `!important` here to be able to override the default hidden behavior on the sphinx rendered scikit-learn.org. See: https://github.com/scikit-learn/scikit-learn/issues/21755 */display: inline-block !important;position: relative;}#sk-container-id-5 div.sk-text-repr-fallback {display: none;}</style><div id=\"sk-container-id-5\" class=\"sk-top-container\"><div class=\"sk-text-repr-fallback\"><pre>RandomForestClassifier(max_depth=15, min_samples_leaf=5, n_estimators=75,\n",
       "                       random_state=1)</pre><b>In a Jupyter environment, please rerun this cell to show the HTML representation or trust the notebook. <br />On GitHub, the HTML representation is unable to render, please try loading this page with nbviewer.org.</b></div><div class=\"sk-container\" hidden><div class=\"sk-item\"><div class=\"sk-estimator sk-toggleable\"><input class=\"sk-toggleable__control sk-hidden--visually\" id=\"sk-estimator-id-5\" type=\"checkbox\" checked><label for=\"sk-estimator-id-5\" class=\"sk-toggleable__label sk-toggleable__label-arrow\">RandomForestClassifier</label><div class=\"sk-toggleable__content\"><pre>RandomForestClassifier(max_depth=15, min_samples_leaf=5, n_estimators=75,\n",
       "                       random_state=1)</pre></div></div></div></div></div>"
      ],
      "text/plain": [
       "RandomForestClassifier(max_depth=15, min_samples_leaf=5, n_estimators=75,\n",
       "                       random_state=1)"
      ]
     },
     "execution_count": 91,
     "metadata": {},
     "output_type": "execute_result"
    }
   ],
   "source": [
    "# Final random forest model\n",
    "rf = RandomForestClassifier(n_estimators=n_estimators,\n",
    "                            max_depth=max_depth,\n",
    "                            min_samples_leaf=min_samples_leaf,\n",
    "                            random_state=1)\n",
    "rf.fit(X_train, y_train)"
   ]
  },
  {
   "cell_type": "code",
   "execution_count": 92,
   "id": "853bb0aa-2078-4021-bfd0-21bf30f67f3a",
   "metadata": {},
   "outputs": [
    {
     "data": {
      "text/plain": [
       "0.8710881994834498"
      ]
     },
     "execution_count": 92,
     "metadata": {},
     "output_type": "execute_result"
    }
   ],
   "source": [
    "y_pred = rf.predict_proba(X_val)[:, 1]\n",
    "auc = roc_auc_score(y_val, y_pred)\n",
    "auc"
   ]
  },
  {
   "cell_type": "markdown",
   "id": "4104f424-98c0-4528-9e86-04a6557a3509",
   "metadata": {},
   "source": [
    "This has roughly the same AUC as our decision tree model."
   ]
  },
  {
   "cell_type": "markdown",
   "id": "cb1b2959-fb9c-4a06-8aec-ebc7a1b7e80e",
   "metadata": {},
   "source": [
    "## XG Boost Parameter Tuning"
   ]
  },
  {
   "cell_type": "markdown",
   "id": "18b51dea-c858-478e-9c22-69b519e0835d",
   "metadata": {},
   "source": [
    "### Parameter Tuning"
   ]
  },
  {
   "cell_type": "code",
   "execution_count": 93,
   "id": "bef79e67-b35f-4ca8-b349-d7fa163353b0",
   "metadata": {},
   "outputs": [
    {
     "name": "stdout",
     "output_type": "stream",
     "text": [
      "Requirement already satisfied: xgboost in /Users/lizwi/miniconda3/envs/ml-zoomcamp/lib/python3.8/site-packages (2.0.3)\n",
      "Requirement already satisfied: numpy in /Users/lizwi/miniconda3/envs/ml-zoomcamp/lib/python3.8/site-packages (from xgboost) (1.23.0)\n",
      "Requirement already satisfied: scipy in /Users/lizwi/miniconda3/envs/ml-zoomcamp/lib/python3.8/site-packages (from xgboost) (1.10.1)\n"
     ]
    }
   ],
   "source": [
    "!pip install xgboost"
   ]
  },
  {
   "cell_type": "code",
   "execution_count": 94,
   "id": "0e679e50-c676-45cd-8dbc-5cc448d60bcd",
   "metadata": {},
   "outputs": [],
   "source": [
    "import xgboost as xgb"
   ]
  },
  {
   "cell_type": "code",
   "execution_count": 95,
   "id": "8e97f40b-3a94-4811-94ad-caef9ec188b7",
   "metadata": {},
   "outputs": [],
   "source": [
    "def parse_xgb_output(output):\n",
    "    results = []\n",
    "\n",
    "    for line in output.stdout.strip().split('\\n'):\n",
    "        it_line, train_line, val_line = line.split('\\t')\n",
    "\n",
    "        it = int(it_line.strip('[]'))\n",
    "        train = float(train_line.split(':')[1])\n",
    "        val = float(val_line.split(':')[1])\n",
    "\n",
    "        results.append((it, train, val))\n",
    "    \n",
    "    columns = ['num_iter', 'train_auc', 'val_auc']\n",
    "    df_results = pd.DataFrame(results, columns=columns)\n",
    "    return df_results"
   ]
  },
  {
   "cell_type": "code",
   "execution_count": 96,
   "id": "c843b71d-8346-4292-9fe9-ff6efa029ea1",
   "metadata": {},
   "outputs": [],
   "source": [
    "features = dv.get_feature_names_out()\n",
    "dtrain = xgb.DMatrix(X_train, label=y_train, feature_names=tuple(features))\n",
    "dval = xgb.DMatrix(X_val, label=y_val, feature_names=tuple(features))"
   ]
  },
  {
   "cell_type": "code",
   "execution_count": 97,
   "id": "0e1b08af-8033-4147-a668-7aea2c0de87d",
   "metadata": {},
   "outputs": [],
   "source": [
    "watchlist = [(dtrain, 'train'), (dval, 'val')]"
   ]
  },
  {
   "cell_type": "code",
   "execution_count": 98,
   "id": "e91ba814-814e-47c6-a7e4-8bb794707c95",
   "metadata": {},
   "outputs": [],
   "source": [
    "scores = {}"
   ]
  },
  {
   "cell_type": "code",
   "execution_count": 99,
   "id": "1af65fe4-3c4a-4132-8d5a-ee9a7e2d3792",
   "metadata": {},
   "outputs": [],
   "source": [
    "%%capture output\n",
    "\n",
    "# run this several times with eta values of 0.01, 0.05, 0.1, 0.3, and 1\n",
    "xgb_params = {\n",
    "    'eta': 1, \n",
    "    'max_depth': 6,\n",
    "    'min_child_weight': 1,\n",
    "    \n",
    "    'objective': 'binary:logistic',\n",
    "    'eval_metric': 'auc',\n",
    "\n",
    "    'nthread': 8,\n",
    "    'seed': 1,\n",
    "    'verbosity': 1,\n",
    "}\n",
    "\n",
    "model = xgb.train(xgb_params, dtrain, num_boost_round=200,\n",
    "                  verbose_eval=5,\n",
    "                  evals=watchlist)"
   ]
  },
  {
   "cell_type": "code",
   "execution_count": 100,
   "id": "2a7bf10e-3813-48cb-8269-d9cc003105b3",
   "metadata": {},
   "outputs": [
    {
     "data": {
      "text/plain": [
       "'eta=1'"
      ]
     },
     "execution_count": 100,
     "metadata": {},
     "output_type": "execute_result"
    }
   ],
   "source": [
    "# run this several times (immediately after the prior line)\n",
    "key = 'eta=%s' % (xgb_params['eta'])\n",
    "scores[key] = parse_xgb_output(output)\n",
    "key"
   ]
  },
  {
   "cell_type": "code",
   "execution_count": 101,
   "id": "09cc9123-9426-426a-9b26-893161846987",
   "metadata": {},
   "outputs": [
    {
     "data": {
      "text/plain": [
       "['eta=1']"
      ]
     },
     "execution_count": 101,
     "metadata": {},
     "output_type": "execute_result"
    }
   ],
   "source": [
    "list(scores.keys())"
   ]
  },
  {
   "cell_type": "code",
   "execution_count": 102,
   "id": "089cb38d-3f92-4901-88db-6b3df0f95763",
   "metadata": {},
   "outputs": [
    {
     "data": {
      "text/plain": [
       "<matplotlib.legend.Legend at 0x29cc3f370>"
      ]
     },
     "execution_count": 102,
     "metadata": {},
     "output_type": "execute_result"
    },
    {
     "data": {
      "image/png": "[encoded data removed]",
      "text/plain": [
       "<Figure size 900x500 with 1 Axes>"
      ]
     },
     "metadata": {
      "needs_background": "light"
     },
     "output_type": "display_data"
    }
   ],
   "source": [
    "etas = list(scores.keys())\n",
    "\n",
    "for eta in etas:\n",
    "    df_score = scores[eta]\n",
    "    plt.plot(df_score.num_iter, df_score.val_auc, label=eta)\n",
    "\n",
    "plt.legend()"
   ]
  },
  {
   "cell_type": "markdown",
   "id": "5b22e6d9-3ca2-4d90-8662-e4960bd6f684",
   "metadata": {},
   "source": [
    "0.3 (red line) starts to decline too quickly, 0.1 (green line) increases quickly at first and then plateaus, we'll go with 0.1 for eta"
   ]
  },
  {
   "cell_type": "code",
   "execution_count": 103,
   "id": "9647b1a8-3242-4879-a9ac-33baadde1c48",
   "metadata": {},
   "outputs": [],
   "source": [
    "eta = 0.1"
   ]
  },
  {
   "cell_type": "markdown",
   "id": "7042ff5a-5a23-49f7-8a65-c3055c5ecedc",
   "metadata": {},
   "source": [
    "Tuning the max_depth parameter, we'll start with 5, 10, 15, 20 (same values as what we tried in random forest)"
   ]
  },
  {
   "cell_type": "code",
   "execution_count": 104,
   "id": "38b8ead3-d2ac-4019-ad1f-9f38a514ae71",
   "metadata": {},
   "outputs": [],
   "source": [
    "scores = {}"
   ]
  },
  {
   "cell_type": "code",
   "execution_count": 105,
   "id": "a745baad-6500-4aa9-a199-17cb19143b82",
   "metadata": {},
   "outputs": [],
   "source": [
    "%%capture output\n",
    "\n",
    "# run this several times with max_depth values of 5, 10, 15, 20\n",
    "xgb_params = {\n",
    "    'eta': eta, \n",
    "    'max_depth': 20,\n",
    "    'min_child_weight': 1,\n",
    "    \n",
    "    'objective': 'binary:logistic',\n",
    "    'eval_metric': 'auc',\n",
    "\n",
    "    'nthread': 8,\n",
    "    'seed': 1,\n",
    "    'verbosity': 1,\n",
    "}\n",
    "\n",
    "model = xgb.train(xgb_params, dtrain, num_boost_round=200,\n",
    "                  verbose_eval=5,\n",
    "                  evals=watchlist)"
   ]
  },
  {
   "cell_type": "code",
   "execution_count": 106,
   "id": "51e3ec28-b215-4c01-a8dd-de43cfb947b2",
   "metadata": {},
   "outputs": [
    {
     "data": {
      "text/plain": [
       "'max_depth=20'"
      ]
     },
     "execution_count": 106,
     "metadata": {},
     "output_type": "execute_result"
    }
   ],
   "source": [
    "# run this several times (immediately after the prior line)\n",
    "key = 'max_depth=%s' % (xgb_params['max_depth'])\n",
    "scores[key] = parse_xgb_output(output)\n",
    "key"
   ]
  },
  {
   "cell_type": "code",
   "execution_count": 107,
   "id": "b099b5c2-4fd1-4d24-b1dd-7533c3fdd18f",
   "metadata": {},
   "outputs": [
    {
     "data": {
      "text/plain": [
       "<matplotlib.legend.Legend at 0x29ccd2100>"
      ]
     },
     "execution_count": 107,
     "metadata": {},
     "output_type": "execute_result"
    },
    {
     "data": {
      "image/png": "[encoded data removed]",
      "text/plain": [
       "<Figure size 900x500 with 1 Axes>"
      ]
     },
     "metadata": {
      "needs_background": "light"
     },
     "output_type": "display_data"
    }
   ],
   "source": [
    "for max_depth, df_score in scores.items():\n",
    "    plt.plot(df_score.num_iter, df_score.val_auc, label=max_depth)\n",
    "\n",
    "# plt.ylim(0.855, 0.9)\n",
    "plt.legend()"
   ]
  },
  {
   "cell_type": "markdown",
   "id": "7e659894-bf32-4fc9-b09c-f78db02b6936",
   "metadata": {},
   "source": [
    "max_depth of 5 is the best because it does not decline significantly unlike the others, it plateaus instead around 75"
   ]
  },
  {
   "cell_type": "code",
   "execution_count": 108,
   "id": "e3470866-f67b-45cf-9ec0-bba85a304e56",
   "metadata": {},
   "outputs": [],
   "source": [
    "max_depth = 5"
   ]
  },
  {
   "cell_type": "markdown",
   "id": "d9a635bd-58c6-41af-bc3e-e21394519eb4",
   "metadata": {},
   "source": [
    "Final model:"
   ]
  },
  {
   "cell_type": "code",
   "execution_count": 109,
   "id": "fa4a8a03-2be9-4ee9-a094-ce721a2a80c9",
   "metadata": {},
   "outputs": [],
   "source": [
    "xgb_params = {\n",
    "    'eta': eta, \n",
    "    'max_depth': max_depth,\n",
    "    'min_child_weight': 1, # using the default value here\n",
    "\n",
    "    'objective': 'binary:logistic',\n",
    "    'eval_metric': 'auc',\n",
    "\n",
    "    'nthread': 8,\n",
    "    'seed': 1,\n",
    "    'verbosity': 1,\n",
    "}\n",
    "\n",
    "model = xgb.train(xgb_params, dtrain, num_boost_round=75)"
   ]
  },
  {
   "cell_type": "code",
   "execution_count": 110,
   "id": "ce18f961-f7a7-493f-99d4-a537d31c0e2a",
   "metadata": {},
   "outputs": [
    {
     "data": {
      "text/plain": [
       "0.8735008156200101"
      ]
     },
     "execution_count": 110,
     "metadata": {},
     "output_type": "execute_result"
    }
   ],
   "source": [
    "y_pred = model.predict(dval)\n",
    "roc_auc_score(y_val, y_pred)"
   ]
  },
  {
   "cell_type": "markdown",
   "id": "3d77f54d-454d-4b05-bc60-59a8427359c4",
   "metadata": {},
   "source": [
    "This is the best model with an AUC of 0.8735"
   ]
  },
  {
   "cell_type": "markdown",
   "id": "21651507-b40a-4368-82d0-aadd1f21f7ac",
   "metadata": {},
   "source": [
    "We see that XGBoost is the best model (based on AUC) so now we will use the full training data set to train the model and then evaluate the final model on our test data set"
   ]
  },
  {
   "cell_type": "code",
   "execution_count": 111,
   "id": "8fb8e1d5-78e0-424d-9ef1-88d986b22734",
   "metadata": {},
   "outputs": [],
   "source": [
    "df_full_train = df_full_train.reset_index(drop=True)"
   ]
  },
  {
   "cell_type": "code",
   "execution_count": 112,
   "id": "b1ca7338-6ae4-4d03-a3d7-b7014a0ffe59",
   "metadata": {},
   "outputs": [],
   "source": [
    "y_full_train = df_full_train.is_lead.values"
   ]
  },
  {
   "cell_type": "code",
   "execution_count": 113,
   "id": "87560845-effd-492c-ad73-5829c0cddfc9",
   "metadata": {},
   "outputs": [],
   "source": [
    "del df_full_train['is_lead']"
   ]
  },
  {
   "cell_type": "code",
   "execution_count": 114,
   "id": "0986e5cf-8f13-4c09-b10f-c44d3d524985",
   "metadata": {},
   "outputs": [],
   "source": [
    "dicts_full_train = df_full_train.to_dict(orient='records')\n",
    "\n",
    "dv = DictVectorizer(sparse=False)\n",
    "X_full_train = dv.fit_transform(dicts_full_train)\n",
    "\n",
    "dicts_test = df_test.to_dict(orient='records')\n",
    "X_test = dv.transform(dicts_test)"
   ]
  },
  {
   "cell_type": "code",
   "execution_count": 115,
   "id": "4c76307e-c62a-41dd-a7fb-a92da8b87592",
   "metadata": {},
   "outputs": [],
   "source": [
    "dfulltrain = xgb.DMatrix(X_full_train, label=y_full_train,\n",
    "                    feature_names=tuple(dv.get_feature_names_out()))\n",
    "\n",
    "dtest = xgb.DMatrix(X_test, feature_names=tuple(dv.get_feature_names_out()))"
   ]
  },
  {
   "cell_type": "code",
   "execution_count": 116,
   "id": "3de5d1f9-9e8a-4bdc-81f1-2c006feec80f",
   "metadata": {},
   "outputs": [
    {
     "data": {
      "text/plain": [
       "array([0.1474574 , 0.30946362, 0.3652135 , ..., 0.25652152, 0.44304964,\n",
       "       0.1678588 ], dtype=float32)"
      ]
     },
     "execution_count": 116,
     "metadata": {},
     "output_type": "execute_result"
    }
   ],
   "source": [
    "y_pred = model.predict(dtest)\n",
    "y_pred"
   ]
  },
  {
   "cell_type": "code",
   "execution_count": 117,
   "id": "8711c6e2-4681-4050-ae88-757dc94d2f7f",
   "metadata": {},
   "outputs": [
    {
     "data": {
      "text/plain": [
       "0.8726627575982944"
      ]
     },
     "execution_count": 117,
     "metadata": {},
     "output_type": "execute_result"
    }
   ],
   "source": [
    "roc_auc_score(y_test, y_pred)"
   ]
  },
  {
   "cell_type": "markdown",
   "id": "19a264fe-e1ef-4549-867d-6250871c3eb8",
   "metadata": {},
   "source": [
    "This is almost as good as the model that was trained on the smaller training dataset, we don't see overfitting here."
   ]
  },
  {
   "cell_type": "markdown",
   "id": "988a9dea-c565-485a-a125-02db6b7d0b7b",
   "metadata": {},
   "source": [
    "## Exporting the Model"
   ]
  },
  {
   "cell_type": "markdown",
   "id": "e04341dc-944f-450c-8c39-441f2ad82faa",
   "metadata": {},
   "source": [
    "### Save the Model"
   ]
  },
  {
   "cell_type": "code",
   "execution_count": 118,
   "id": "150ecfe4-bac4-4489-8e40-62602139b690",
   "metadata": {},
   "outputs": [],
   "source": [
    "import pickle"
   ]
  },
  {
   "cell_type": "code",
   "execution_count": 119,
   "id": "ed75f653-c2ac-429f-ba73-546950beff95",
   "metadata": {},
   "outputs": [],
   "source": [
    "output_file = 'lead_scoring_model.bin'"
   ]
  },
  {
   "cell_type": "code",
   "execution_count": 120,
   "id": "101fc1f5-3545-4187-bcc4-8680bc69cb44",
   "metadata": {},
   "outputs": [],
   "source": [
    "with open(output_file, 'wb') as f_out:\n",
    "    pickle.dump((dv, model), f_out)"
   ]
  },
  {
   "cell_type": "code",
   "execution_count": 121,
   "id": "269c604b-0bb1-499d-8bbb-0c021d3e9ceb",
   "metadata": {},
   "outputs": [
    {
     "name": "stdout",
     "output_type": "stream",
     "text": [
      "-rw-r--r--@ 1 lizwi  staff   198K Mar 11 08:30 lead_scoring_model.bin\n"
     ]
    }
   ],
   "source": [
    "!ls -lh *.bin"
   ]
  },
  {
   "cell_type": "code",
   "execution_count": 122,
   "id": "a02b2c48-d222-4b80-988b-234b09b48db0",
   "metadata": {},
   "outputs": [],
   "source": [
    "with open(output_file, 'wb') as f_out: \n",
    "    pickle.dump((dv, model), f_out)"
   ]
  },
  {
   "cell_type": "markdown",
   "id": "fb3189a3-a3f7-41a9-a974-bd4d13f9c16c",
   "metadata": {},
   "source": [
    "### Load the Model"
   ]
  },
  {
   "cell_type": "code",
   "execution_count": 123,
   "id": "cf8f6ecc-71e9-4a46-be7c-f41ccc943a07",
   "metadata": {},
   "outputs": [],
   "source": [
    "import pickle"
   ]
  },
  {
   "cell_type": "code",
   "execution_count": 124,
   "id": "24adb5ef-db1a-4313-b2bc-85c33e73175b",
   "metadata": {},
   "outputs": [],
   "source": [
    "input_file = 'lead_scoring_model.bin'"
   ]
  },
  {
   "cell_type": "code",
   "execution_count": 125,
   "id": "9c2d1775-3109-47f1-be3e-41a07cf98e17",
   "metadata": {},
   "outputs": [],
   "source": [
    "with open(input_file, 'rb') as f_in: \n",
    "    dv, model = pickle.load(f_in)"
   ]
  },
  {
   "cell_type": "code",
   "execution_count": 126,
   "id": "d43f1ef9-cd3a-41ab-a70c-f99d0d1d1eb9",
   "metadata": {},
   "outputs": [
    {
     "data": {
      "text/plain": [
       "(DictVectorizer(sparse=False), <xgboost.core.Booster at 0x2b012e0d0>)"
      ]
     },
     "execution_count": 126,
     "metadata": {},
     "output_type": "execute_result"
    }
   ],
   "source": [
    "dv, model"
   ]
  },
  {
   "cell_type": "markdown",
   "id": "e2666736-55fa-44cb-a611-f772825e7e75",
   "metadata": {},
   "source": [
    "Let's test on a random row from our training dataset"
   ]
  },
  {
   "cell_type": "code",
   "execution_count": 127,
   "id": "e05bedb9-b334-427d-be17-5d542a5ebff1",
   "metadata": {},
   "outputs": [],
   "source": [
    "customer = {\n",
    "    'gender': 'Male',\n",
    "    'age': 75,\n",
    "    'region_code': 'RG268',\n",
    "    'occupation': 'Other',\n",
    "    'channel_code': 'X2',\n",
    "    'vintage': 62,\n",
    "    'credit_product': 'Yes',\n",
    "    'avg_account_balance': 13.664323648494173,\n",
    "    'is_active': 'No'\n",
    "}"
   ]
  },
  {
   "cell_type": "code",
   "execution_count": 128,
   "id": "a143b305-09c8-428c-93a3-122be6b6a902",
   "metadata": {},
   "outputs": [],
   "source": [
    "X = dv.transform([customer])"
   ]
  },
  {
   "cell_type": "code",
   "execution_count": 129,
   "id": "f3445ce9-3bea-4e77-959a-65dc226be7c8",
   "metadata": {},
   "outputs": [
    {
     "data": {
      "text/plain": [
       "array([[75.        , 13.66432365,  0.        ,  1.        ,  0.        ,\n",
       "         0.        ,  0.        ,  0.        ,  1.        ,  0.        ,\n",
       "         1.        ,  1.        ,  0.        ,  0.        ,  1.        ,\n",
       "         0.        ,  0.        ,  0.        ,  0.        ,  0.        ,\n",
       "         0.        ,  0.        ,  0.        ,  0.        ,  0.        ,\n",
       "         0.        ,  0.        ,  0.        ,  0.        ,  0.        ,\n",
       "         0.        ,  0.        ,  0.        ,  0.        ,  0.        ,\n",
       "         1.        ,  0.        ,  0.        ,  0.        ,  0.        ,\n",
       "         0.        ,  0.        ,  0.        ,  0.        ,  0.        ,\n",
       "         0.        ,  0.        ,  0.        ,  0.        ,  0.        ,\n",
       "         0.        ,  0.        , 62.        ]])"
      ]
     },
     "execution_count": 129,
     "metadata": {},
     "output_type": "execute_result"
    }
   ],
   "source": [
    "X"
   ]
  },
  {
   "cell_type": "code",
   "execution_count": 130,
   "id": "821708cb-e253-43de-ae86-0a807e6a5ecc",
   "metadata": {},
   "outputs": [
    {
     "data": {
      "text/plain": [
       "0.21424997"
      ]
     },
     "execution_count": 130,
     "metadata": {},
     "output_type": "execute_result"
    }
   ],
   "source": [
    "dtest = xgb.DMatrix(X, feature_names=tuple(dv.get_feature_names_out()))\n",
    "y_pred = model.predict(dtest)\n",
    "y_pred[0]"
   ]
  },
  {
   "cell_type": "code",
   "execution_count": 131,
   "id": "b5c301d0-ba37-49e1-9db2-793baa9eda13",
   "metadata": {},
   "outputs": [
    {
     "name": "stdout",
     "output_type": "stream",
     "text": [
      "input: {'gender': 'Male', 'age': 75, 'region_code': 'RG268', 'occupation': 'Other', 'channel_code': 'X2', 'vintage': 62, 'credit_product': 'Yes', 'avg_account_balance': 13.664323648494173, 'is_active': 'No'}\n",
      "output: 0.21424997\n"
     ]
    }
   ],
   "source": [
    "print('input:', customer)\n",
    "print('output:', y_pred[0])"
   ]
  },
  {
   "cell_type": "markdown",
   "id": "f689bc10-d7b0-4921-8ef4-745ac466aa16",
   "metadata": {},
   "source": [
    "### Making Requests"
   ]
  },
  {
   "cell_type": "code",
   "execution_count": 163,
   "id": "5ef8f045-f3e8-4b3a-ac37-da77c6399250",
   "metadata": {},
   "outputs": [],
   "source": [
    "import requests"
   ]
  },
  {
   "cell_type": "code",
   "execution_count": 164,
   "id": "6e0a2ca1-8013-4ba1-99b7-5cf5f7d8ef94",
   "metadata": {},
   "outputs": [],
   "source": [
    "url = 'http://localhost:9696/predict'"
   ]
  },
  {
   "cell_type": "code",
   "execution_count": 167,
   "id": "a5f63855-8a43-439c-887f-53218d102dbb",
   "metadata": {},
   "outputs": [],
   "source": [
    "unlikely_customer = {'gender': 'Female',\n",
    "     'region_code': 'RG269',\n",
    "     'occupation': 'Other',\n",
    "     'channel_code': 'X1',\n",
    "     'credit_product': 'No',\n",
    "     'is_active': 'No',\n",
    "     'age': 36,\n",
    "     'vintage': 27,\n",
    "     'avg_account_balance': 12.727015912884449}"
   ]
  },
  {
   "cell_type": "code",
   "execution_count": 168,
   "id": "1021c930-05b5-48c8-aa59-28935a84ccb0",
   "metadata": {},
   "outputs": [
    {
     "data": {
      "text/plain": [
       "{'is_lead': False, 'lead_probability': 0.028}"
      ]
     },
     "execution_count": 168,
     "metadata": {},
     "output_type": "execute_result"
    }
   ],
   "source": [
    "response = requests.post(url, json=unlikely_customer).json()\n",
    "response"
   ]
  },
  {
   "cell_type": "code",
   "execution_count": 169,
   "id": "be3ef29c-191e-4660-84ae-fb711a00a945",
   "metadata": {},
   "outputs": [],
   "source": [
    "likely_customer = {'gender': 'Male',\n",
    "    'region_code': 'RG269',\n",
    "    'occupation': 'Self_Employed',\n",
    "    'channel_code': 'X2',\n",
    "    'credit_product': 'Unknown',\n",
    "    'is_active': 'Yes',\n",
    "    'age': 54,\n",
    "    'vintage': 63,\n",
    "    'avg_account_balance': 13.851664072068086}"
   ]
  },
  {
   "cell_type": "code",
   "execution_count": 170,
   "id": "5015a947-8db8-476f-b216-2a17a0e7b2ad",
   "metadata": {},
   "outputs": [
    {
     "data": {
      "text/plain": [
       "{'is_lead': True, 'lead_probability': 0.833}"
      ]
     },
     "execution_count": 170,
     "metadata": {},
     "output_type": "execute_result"
    }
   ],
   "source": [
    "response = requests.post(url, json=likely_customer).json()\n",
    "response"
   ]
  },
  {
   "cell_type": "code",
   "execution_count": null,
   "id": "e1764b2f-f902-4936-9726-e226fe2c6640",
   "metadata": {},
   "outputs": [],
   "source": []
  }
 ],
 "metadata": {
  "kernelspec": {
   "display_name": "Python 3 (ipykernel)",
   "language": "python",
   "name": "python3"
  },
  "language_info": {
   "codemirror_mode": {
    "name": "ipython",
    "version": 3
   },
   "file_extension": ".py",
   "mimetype": "text/x-python",
   "name": "python",
   "nbconvert_exporter": "python",
   "pygments_lexer": "ipython3",
   "version": "3.8.18"
  }
 },
 "nbformat": 4,
 "nbformat_minor": 5
}
