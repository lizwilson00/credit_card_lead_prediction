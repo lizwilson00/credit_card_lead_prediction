{
 "cells": [
  {
   "cell_type": "markdown",
   "id": "d8b2f5e8-ff8c-46c0-b7e9-107d8db74261",
   "metadata": {},
   "source": [
    "Possible Ideas:\n",
    "Bank Churn Prediction and add Look Alike models (and figure out how to do that)\n",
    "https://www.kaggle.com/datasets/shubhammeshram579/bank-customer-churn-prediction\n",
    "\n",
    "Credit Card Lead Prediction:\n",
    "https://www.kaggle.com/datasets/sajidhussain3/jobathon-may-2021-credit-card-lead-prediction\n",
    "\n",
    "Vehicle Load Default Prediction:\n",
    "https://www.kaggle.com/datasets/meastanmay/nbfi-vehicle-loan-repayment-dataset\n",
    "\n",
    "Credit Score and Default Prediction:\n",
    "https://www.kaggle.com/datasets/conorsully1/credit-score\n",
    "\n",
    "ECommerce Data Set with lots of sources of data:\n",
    "https://www.kaggle.com/datasets/thedevastator/unlock-profits-with-e-commerce-sales-data\n",
    "\n",
    "Good for Data Analysis but perhaps not for prediction:\n",
    "https://www.kaggle.com/datasets/anandaramg/global-superstore"
   ]
  },
  {
   "cell_type": "markdown",
   "id": "73895c69-f632-4089-9294-9e69a20089d7",
   "metadata": {},
   "source": [
    "Loan Default Predictor: https://www.kaggle.com/datasets/sanjanchaudhari/loan-prediction-based-on-customer-behavior"
   ]
  },
  {
   "cell_type": "code",
   "execution_count": null,
   "id": "a4dbc0ad-d5c0-4c4f-bc8c-ffca590aede5",
   "metadata": {},
   "outputs": [],
   "source": []
  }
 ],
 "metadata": {
  "kernelspec": {
   "display_name": "Python 3 (ipykernel)",
   "language": "python",
   "name": "python3"
  },
  "language_info": {
   "codemirror_mode": {
    "name": "ipython",
    "version": 3
   },
   "file_extension": ".py",
   "mimetype": "text/x-python",
   "name": "python",
   "nbconvert_exporter": "python",
   "pygments_lexer": "ipython3",
   "version": "3.8.18"
  }
 },
 "nbformat": 4,
 "nbformat_minor": 5
}
